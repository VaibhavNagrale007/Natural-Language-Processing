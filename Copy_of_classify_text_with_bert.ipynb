{
  "cells": [
    {
      "cell_type": "markdown",
      "metadata": {
        "id": "view-in-github",
        "colab_type": "text"
      },
      "source": [
        "<a href=\"https://colab.research.google.com/github/VaibhavNagrale007/Natural-Language-Processing/blob/main/Copy_of_classify_text_with_bert.ipynb\" target=\"_parent\"><img src=\"https://colab.research.google.com/assets/colab-badge.svg\" alt=\"Open In Colab\"/></a>"
      ]
    },
    {
      "cell_type": "code",
      "execution_count": null,
      "metadata": {
        "colab": {
          "base_uri": "https://localhost:8080/"
        },
        "id": "pOdqCMoQDRJL",
        "outputId": "b9b5e957-ff60-4e36-80a9-f083521e4c1f"
      },
      "outputs": [
        {
          "output_type": "stream",
          "name": "stdout",
          "text": [
            "Drive already mounted at /content/drive; to attempt to forcibly remount, call drive.mount(\"/content/drive\", force_remount=True).\n"
          ]
        }
      ],
      "source": [
        "from google.colab import drive\n",
        "drive.mount('/content/drive')"
      ]
    },
    {
      "cell_type": "code",
      "source": [
        "# Basic imports\n",
        "import pandas as pd\n",
        "import spacy\n",
        "import nltk\n",
        "from nltk.corpus import wordnet\n",
        "import random\n",
        "import re\n",
        "import random\n",
        "from tqdm import tqdm\n",
        "import numpy as np"
      ],
      "metadata": {
        "id": "UJdUOOLIhVkM"
      },
      "execution_count": null,
      "outputs": []
    },
    {
      "cell_type": "code",
      "execution_count": null,
      "metadata": {
        "id": "6IwI_2bcIeX8"
      },
      "outputs": [],
      "source": [
        "df_wiki = pd.read_csv('/content/drive/MyDrive/NLP-Project/wiki-cleaned.csv')\n",
        "df = pd.read_csv('/content/drive/MyDrive/NLP-Project/hydra-cleaned.csv')"
      ]
    },
    {
      "cell_type": "code",
      "execution_count": null,
      "metadata": {
        "id": "kcDGzyLrRGR7"
      },
      "outputs": [],
      "source": [
        "encoding_map = {}\n",
        "for title in set(df_wiki['Title']):\n",
        "  encoding_map[title] = len(encoding_map)"
      ]
    },
    {
      "cell_type": "code",
      "source": [
        "len(encoding_map)"
      ],
      "metadata": {
        "colab": {
          "base_uri": "https://localhost:8080/"
        },
        "id": "reK5va5QqWiX",
        "outputId": "785d71c7-151b-41f8-f3b5-8ba8850d54b0"
      },
      "execution_count": null,
      "outputs": [
        {
          "output_type": "execute_result",
          "data": {
            "text/plain": [
              "1921"
            ]
          },
          "metadata": {},
          "execution_count": 324
        }
      ]
    },
    {
      "cell_type": "code",
      "execution_count": null,
      "metadata": {
        "id": "kizAHMOHRHmU"
      },
      "outputs": [],
      "source": [
        "reverse_encoding_map = {}\n",
        "for key, value in encoding_map.items():\n",
        "  reverse_encoding_map[value] = key"
      ]
    },
    {
      "cell_type": "code",
      "execution_count": null,
      "metadata": {
        "id": "nf6yJTYsRJA1"
      },
      "outputs": [],
      "source": [
        "df['labels'] = [encoding_map[title] for title in df['Title']]\n",
        "df_wiki['labels'] = [encoding_map[title] for title in df_wiki['Title']]"
      ]
    },
    {
      "cell_type": "code",
      "execution_count": null,
      "metadata": {
        "id": "tmpYhQz2Q7HK"
      },
      "outputs": [],
      "source": [
        "train_texts, test_texts1,  train_labels, test_labels1,  = df_wiki['Plot'], df['Summary'], df_wiki['labels'], df['labels']"
      ]
    },
    {
      "cell_type": "code",
      "source": [
        "test_texts2, test_labels2 = df['Short Summary'], df['labels']"
      ],
      "metadata": {
        "id": "F40xBOJajL-V"
      },
      "execution_count": null,
      "outputs": []
    },
    {
      "cell_type": "code",
      "source": [
        "print(f\"{len(train_texts)} train texts\")\n",
        "print(f\"{len(train_labels)} train labels\")\n",
        "print(f\"{len(test_texts1)} test texts 1\")\n",
        "print(f\"{len(test_labels1)} test labels 1\")\n",
        "print(f\"{len(test_texts2)} test texts 2\")\n",
        "print(f\"{len(test_labels2)} test labels 2\")"
      ],
      "metadata": {
        "colab": {
          "base_uri": "https://localhost:8080/"
        },
        "id": "WY1LoaGEjcYq",
        "outputId": "48ea0ac1-e4b2-435a-f200-a37fa3a76ef5"
      },
      "execution_count": null,
      "outputs": [
        {
          "output_type": "stream",
          "name": "stdout",
          "text": [
            "1921 train texts\n",
            "1921 train labels\n",
            "1921 test texts 1\n",
            "1921 test labels 1\n",
            "1921 test texts 2\n",
            "1921 test labels 2\n"
          ]
        }
      ]
    },
    {
      "cell_type": "code",
      "execution_count": null,
      "metadata": {
        "id": "6_WBGGYScERK"
      },
      "outputs": [],
      "source": [
        "labels_count = 100"
      ]
    },
    {
      "cell_type": "code",
      "execution_count": null,
      "metadata": {
        "id": "Gr8Pqs7ta63R"
      },
      "outputs": [],
      "source": [
        "def prune(labels_count, x, y):\n",
        "  new_x = []\n",
        "  new_y = []\n",
        "  for i, j in zip(x, y):\n",
        "    if j < labels_count:\n",
        "      new_x.append(i)\n",
        "      new_y.append(j)\n",
        "  return new_x, new_y"
      ]
    },
    {
      "cell_type": "code",
      "execution_count": null,
      "metadata": {
        "id": "WPgaMilIcv3s"
      },
      "outputs": [],
      "source": [
        "train_texts_pruned, train_labels_pruned = prune(labels_count, train_texts, train_labels)\n",
        "test_texts1_pruned, test_labels1_pruned = prune(labels_count, test_texts1, test_labels1)\n",
        "test_texts2_pruned, test_labels2_pruned = prune(labels_count, test_texts2, test_labels2)"
      ]
    },
    {
      "cell_type": "code",
      "source": [
        "[reverse_encoding_map[num] for num in train_labels_pruned]"
      ],
      "metadata": {
        "colab": {
          "base_uri": "https://localhost:8080/"
        },
        "id": "Kr4gmVLs37qu",
        "outputId": "2814a2f2-a762-4c09-b18a-105e1656e0ac"
      },
      "execution_count": null,
      "outputs": [
        {
          "output_type": "execute_result",
          "data": {
            "text/plain": [
              "['What Women Want (2000)',\n",
              " 'American Pie 2 (2001)',\n",
              " 'Jeepers Creepers (2001)',\n",
              " 'Kissing Jessica Stein (2001)',\n",
              " 'Swordfish (2001)',\n",
              " 'Below (2002)',\n",
              " 'Spirit: Stallion of the Cimarron (2002)',\n",
              " 'Unfaithful (2002)',\n",
              " 'Basic (2003)',\n",
              " 'Anchorman: The Legend of Ron Burgundy (2004)',\n",
              " 'Miracle (2004)',\n",
              " 'Coach Carter (2005)',\n",
              " 'Four Brothers (2005)',\n",
              " \"The Hitchhiker's Guide to the Galaxy (2005)\",\n",
              " 'King Kong (2005)',\n",
              " 'The Weather Man (2005)',\n",
              " 'Curious George (2006)',\n",
              " 'Gridiron Gang (2006)',\n",
              " 'The Mist (2007)',\n",
              " 'No Country for Old Men (2007)',\n",
              " 'TMNT (2007)',\n",
              " 'Bolt (2008)',\n",
              " 'Hancock (2008)',\n",
              " \"Nim's Island (2008)\",\n",
              " 'Angels & Demons (2009)',\n",
              " 'Brothers (2009)',\n",
              " 'The Lovely Bones (2009)',\n",
              " 'The Proposal (2009)',\n",
              " 'Date Night (2010)',\n",
              " 'Grown Ups (2010)',\n",
              " 'Hereafter (2010)',\n",
              " 'What If... (2010)',\n",
              " 'Dolphin Tale (2011)',\n",
              " 'I Am Number Four (2011)',\n",
              " 'Like Crazy (2011)',\n",
              " 'Rango (2011)',\n",
              " 'Sherlock Holmes: A Game of Shadows (2011)',\n",
              " 'Transformers: Dark of the Moon (2011)',\n",
              " 'Journey 2: The Mysterious Island (2012)',\n",
              " 'Lockout (2012)',\n",
              " 'Looper (2012)',\n",
              " 'Magic Mike (2012)',\n",
              " 'Empire State (2013)',\n",
              " 'This Is the End (2013)',\n",
              " 'Endless Love (2014)',\n",
              " 'Sabotage (2014)',\n",
              " 'Rage (2014)',\n",
              " 'Wish I Was Here (2014)',\n",
              " 'Gone Girl (2014)',\n",
              " 'Foxcatcher (2014)',\n",
              " 'Strange Magic (2015)',\n",
              " 'Jupiter Ascending (2015)',\n",
              " 'Minions (2015)',\n",
              " 'The Finest Hours (2016)',\n",
              " 'Bad Moms (2016)',\n",
              " \"A Dog's Purpose (2017)\",\n",
              " 'War Machine (2017)',\n",
              " 'Wonder Woman (2017)',\n",
              " 'All Eyez on Me (2017)',\n",
              " 'Girls Trip (2017)',\n",
              " 'The Dark Tower (2017)',\n",
              " 'Kidnap (2017)',\n",
              " 'Wind River (2017)',\n",
              " 'The Glass Castle (2017)',\n",
              " 'The Florida Project (2017)',\n",
              " 'Wonderstruck (2017)',\n",
              " 'Last Flag Flying (2017)',\n",
              " 'The Post (2017)',\n",
              " 'Wolf Creek (2005)',\n",
              " 'Beneath Hill 60 (2010)',\n",
              " 'Love Actually (2003)',\n",
              " 'Revolver (2005)',\n",
              " 'London to Brighton (2006)',\n",
              " 'The Damned United (2009)',\n",
              " 'The Awakening (2011)',\n",
              " 'War Horse (2011)',\n",
              " 'Good Vibrations (2012)',\n",
              " 'The Dark Knight Rises (2012)',\n",
              " 'Coherence (2013)',\n",
              " 'Vendetta (2013)',\n",
              " 'The Imitation Game (2014)',\n",
              " 'Absolutely Anything (2015)',\n",
              " 'The Childhood of a Leader (2015)',\n",
              " 'A United Kingdom (2016)',\n",
              " 'Mindhorn (2016)',\n",
              " 'Final Portrait (2017)',\n",
              " '6 Days (2017)',\n",
              " 'The Ritual (2017)',\n",
              " 'Ginger Snaps (2000)',\n",
              " 'Mr. Nobody (2009)',\n",
              " 'The Bang Bang Club (2010)',\n",
              " 'Rhymes for Young Ghouls (2013)',\n",
              " 'The Forbidden Room (2015)',\n",
              " 'Dragon Blade (2015)',\n",
              " 'Throne of Elves (2016)',\n",
              " 'Kung Fu Yoga (2017)',\n",
              " 'Naked Ambition 2 (2014)',\n",
              " 'Tiger Zinda Hai (2017)',\n",
              " 'The Man from Nowhere (2010)',\n",
              " 'The Mimic (2017)']"
            ]
          },
          "metadata": {},
          "execution_count": 334
        }
      ]
    },
    {
      "cell_type": "code",
      "execution_count": null,
      "metadata": {
        "id": "-BBz9iWVh5mN",
        "colab": {
          "base_uri": "https://localhost:8080/"
        },
        "outputId": "9d9ab78f-c565-4941-d0ec-19d68fe118d2"
      },
      "outputs": [
        {
          "output_type": "stream",
          "name": "stderr",
          "text": [
            "[nltk_data] Downloading package punkt to /root/nltk_data...\n",
            "[nltk_data]   Package punkt is already up-to-date!\n",
            "[nltk_data] Downloading package wordnet to /root/nltk_data...\n"
          ]
        },
        {
          "output_type": "execute_result",
          "data": {
            "text/plain": [
              "True"
            ]
          },
          "metadata": {},
          "execution_count": 145
        }
      ],
      "source": [
        "nlp = spacy.load(\"en_core_web_sm\")\n",
        "nltk.download('punkt')\n",
        "nltk.download('wordnet')"
      ]
    },
    {
      "cell_type": "code",
      "source": [
        "def get_wordnet_pos(tag):\n",
        "    tag = tag[0].upper()\n",
        "    tag_dict = {'N': wordnet.NOUN, 'V': wordnet.VERB, 'R': wordnet.ADV, 'J': wordnet.ADJ}\n",
        "    return tag_dict.get(tag, wordnet.NOUN)\n",
        "\n",
        "def get_synonym(word, pos):\n",
        "    synsets = list(wordnet.synsets(word, pos=get_wordnet_pos(pos)))\n",
        "    if synsets:\n",
        "        synonyms = [lemma.name() for synset in synsets for lemma in synset.lemmas()]\n",
        "        if synonyms:\n",
        "            return random.choice(synonyms)\n",
        "    return word\n",
        "\n",
        "def paraphrase_token(token):\n",
        "    if token.ent_type_ != '':\n",
        "        return get_synonym(token.text, token.pos_)\n",
        "    elif token.pos_ in ['NOUN', 'VERB', 'ADJ', 'ADV'] and random.random() < 0.5:\n",
        "        # Replace nouns, verbs, adjectives, and adverbs with a synonym (50% chance)\n",
        "        return get_synonym(token.text, token.pos_)\n",
        "    else:\n",
        "        return token.text\n",
        "\n",
        "def paraphrase_sentence(sentence):\n",
        "    doc = nlp(sentence)\n",
        "    paraphrased_tokens = [paraphrase_token(token) for token in doc]\n",
        "    return ' '.join(paraphrased_tokens)\n",
        "\n",
        "def add_paraphrases(x, y, num_paraphrases, keep_original = True):\n",
        "  more_x = []\n",
        "  more_y = []\n",
        "  for text, label in tqdm(zip(x, y), total=len(x)):\n",
        "    doc = nlp(str(text))\n",
        "    sentences = [sent.text for sent in doc.sents]\n",
        "    for _ in range(num_paraphrases):\n",
        "        random.shuffle(sentences)  # Shuffle sentences independently for each paraphrase\n",
        "\n",
        "        reordered_text = ' '.join(sentences)\n",
        "        paraphrased_text = ' '.join(paraphrase_sentence(sentence) for sentence in sentences)\n",
        "\n",
        "        # Post-processing\n",
        "        paraphrased_text = paraphrased_text.replace('_', ' ')  # Remove underscores\n",
        "        paraphrased_text = re.sub(r'\\s+', ' ', paraphrased_text)  # Remove extra spaces\n",
        "        more_x.append(paraphrased_text)\n",
        "        more_y.append(label)\n",
        "  if keep_original:\n",
        "    more_x.extend(x)\n",
        "    more_y.extend(y)\n",
        "  return more_x, more_y"
      ],
      "metadata": {
        "id": "PlveUFT7Z04_"
      },
      "execution_count": null,
      "outputs": []
    },
    {
      "cell_type": "code",
      "source": [
        "def remove_capital_words(data, labels):\n",
        "  new_data = []\n",
        "  new_labels = []\n",
        "  for text, label in zip(data, labels):\n",
        "    words = text.split()\n",
        "    filtered_words = [word for word in words if not word[0].isupper()]\n",
        "    new_data.append(\" \".join(filtered_words))\n",
        "    new_labels.append(label)\n",
        "  return new_data, new_labels\n",
        "\n",
        "text = [\"This is a Sentence with some Capital.\"]\n",
        "cleaned_text, cleaned_labels = remove_capital_words(text, [0])\n",
        "print(cleaned_text, cleaned_labels)"
      ],
      "metadata": {
        "colab": {
          "base_uri": "https://localhost:8080/"
        },
        "id": "6XfPU2ArEwno",
        "outputId": "a50b6efb-129e-4567-a13b-f447bb6215ec"
      },
      "execution_count": null,
      "outputs": [
        {
          "output_type": "stream",
          "name": "stdout",
          "text": [
            "['is a with some'] [0]\n"
          ]
        }
      ]
    },
    {
      "cell_type": "code",
      "execution_count": null,
      "metadata": {
        "id": "KjMu2A9v_iq_"
      },
      "outputs": [],
      "source": [
        "def randomly_remove_and_add_sentences(x, y, num_paragraphs, shuffle_probability = 0.5, probability = None, keep_original = True):\n",
        "  more_x = []\n",
        "  more_y = []\n",
        "  for text, label in tqdm(zip(x, y), total=len(x)):\n",
        "    doc = nlp(str(text))\n",
        "    sentences = [str(sent) for sent in doc.sents]\n",
        "    added = 0\n",
        "    while added < num_paragraphs:\n",
        "      para = \"\"\n",
        "      if probability is None:\n",
        "        prob = random.random()\n",
        "      else:\n",
        "        prob = probability\n",
        "      for sentence in sentences:\n",
        "        if random.random() <= prob:\n",
        "          para += \" \" + sentence\n",
        "      para = para.strip()\n",
        "      if len(para) != 0:\n",
        "        more_x.append(para)\n",
        "        more_y.append(label)\n",
        "        added += 1\n",
        "  if keep_original:\n",
        "    more_x.extend(x)\n",
        "    more_y.extend(y)\n",
        "  return more_x, more_y"
      ]
    },
    {
      "cell_type": "code",
      "execution_count": null,
      "metadata": {
        "colab": {
          "base_uri": "https://localhost:8080/"
        },
        "id": "v0QwDOuhov-Y",
        "outputId": "2285e03b-150f-409b-ad18-f9a17f97c319"
      },
      "outputs": [
        {
          "output_type": "stream",
          "name": "stderr",
          "text": [
            "100%|██████████| 256/256 [03:38<00:00,  1.17it/s]\n"
          ]
        }
      ],
      "source": [
        "#X_train, y_train = add_paraphrases(train_texts_pruned, train_labels_pruned, 2)"
      ]
    },
    {
      "cell_type": "code",
      "source": [
        "def break_to_two_sentences(x, y):\n",
        "  more_x = []\n",
        "  more_y = []\n",
        "  for text, label in tqdm(zip(x, y), total=len(x)):\n",
        "    doc = nlp(str(text))\n",
        "    sentences = [str(sent) for sent in doc.sents]\n",
        "    groups = [sentences[i:i+2] for i in range(0, len(sentences), 2)]\n",
        "    for group in groups:\n",
        "      more_x.append(\" \".join(group))\n",
        "      more_y.append(label)\n",
        "  return more_x, more_y"
      ],
      "metadata": {
        "id": "5AM3YzFGchNE"
      },
      "execution_count": null,
      "outputs": []
    },
    {
      "cell_type": "code",
      "source": [
        "broken_x, broken_y = break_to_two_sentences(train_texts_pruned, train_labels_pruned)\n",
        "X_train, y_train = remove_capital_words(broken_x, broken_y)\n",
        "X_train.extend(broken_x)\n",
        "y_train.extend(broken_y)"
      ],
      "metadata": {
        "colab": {
          "base_uri": "https://localhost:8080/"
        },
        "id": "MA0sNNyXb3IX",
        "outputId": "81a1d452-493a-4a8f-f10e-74d771bde2c0"
      },
      "execution_count": null,
      "outputs": [
        {
          "output_type": "stream",
          "name": "stderr",
          "text": [
            "100%|██████████| 100/100 [00:14<00:00,  7.01it/s]"
          ]
        },
        {
          "output_type": "stream",
          "name": "stdout",
          "text": [
            "47.604862444017904\n"
          ]
        },
        {
          "output_type": "stream",
          "name": "stderr",
          "text": [
            "\n"
          ]
        }
      ]
    },
    {
      "cell_type": "code",
      "execution_count": null,
      "metadata": {
        "colab": {
          "base_uri": "https://localhost:8080/"
        },
        "id": "q-YbjCkzw0yU",
        "outputId": "85e1cc50-aaf9-458b-fab4-e23f402ac938"
      },
      "outputs": [
        {
          "output_type": "stream",
          "name": "stdout",
          "text": [
            "Requirement already satisfied: tensorflow-text==2.13.* in /usr/local/lib/python3.10/dist-packages (2.13.0)\n",
            "Requirement already satisfied: tensorflow-hub>=0.8.0 in /usr/local/lib/python3.10/dist-packages (from tensorflow-text==2.13.*) (0.15.0)\n",
            "Requirement already satisfied: tensorflow<2.14,>=2.13.0 in /usr/local/lib/python3.10/dist-packages (from tensorflow-text==2.13.*) (2.13.1)\n",
            "Requirement already satisfied: absl-py>=1.0.0 in /usr/local/lib/python3.10/dist-packages (from tensorflow<2.14,>=2.13.0->tensorflow-text==2.13.*) (1.4.0)\n",
            "Requirement already satisfied: astunparse>=1.6.0 in /usr/local/lib/python3.10/dist-packages (from tensorflow<2.14,>=2.13.0->tensorflow-text==2.13.*) (1.6.3)\n",
            "Requirement already satisfied: flatbuffers>=23.1.21 in /usr/local/lib/python3.10/dist-packages (from tensorflow<2.14,>=2.13.0->tensorflow-text==2.13.*) (23.5.26)\n",
            "Requirement already satisfied: gast<=0.4.0,>=0.2.1 in /usr/local/lib/python3.10/dist-packages (from tensorflow<2.14,>=2.13.0->tensorflow-text==2.13.*) (0.4.0)\n",
            "Requirement already satisfied: google-pasta>=0.1.1 in /usr/local/lib/python3.10/dist-packages (from tensorflow<2.14,>=2.13.0->tensorflow-text==2.13.*) (0.2.0)\n",
            "Requirement already satisfied: grpcio<2.0,>=1.24.3 in /usr/local/lib/python3.10/dist-packages (from tensorflow<2.14,>=2.13.0->tensorflow-text==2.13.*) (1.59.3)\n",
            "Requirement already satisfied: h5py>=2.9.0 in /usr/local/lib/python3.10/dist-packages (from tensorflow<2.14,>=2.13.0->tensorflow-text==2.13.*) (3.9.0)\n",
            "Requirement already satisfied: keras<2.14,>=2.13.1 in /usr/local/lib/python3.10/dist-packages (from tensorflow<2.14,>=2.13.0->tensorflow-text==2.13.*) (2.13.1)\n",
            "Requirement already satisfied: libclang>=13.0.0 in /usr/local/lib/python3.10/dist-packages (from tensorflow<2.14,>=2.13.0->tensorflow-text==2.13.*) (16.0.6)\n",
            "Requirement already satisfied: numpy<=1.24.3,>=1.22 in /usr/local/lib/python3.10/dist-packages (from tensorflow<2.14,>=2.13.0->tensorflow-text==2.13.*) (1.23.5)\n",
            "Requirement already satisfied: opt-einsum>=2.3.2 in /usr/local/lib/python3.10/dist-packages (from tensorflow<2.14,>=2.13.0->tensorflow-text==2.13.*) (3.3.0)\n",
            "Requirement already satisfied: packaging in /usr/local/lib/python3.10/dist-packages (from tensorflow<2.14,>=2.13.0->tensorflow-text==2.13.*) (23.2)\n",
            "Requirement already satisfied: protobuf!=4.21.0,!=4.21.1,!=4.21.2,!=4.21.3,!=4.21.4,!=4.21.5,<5.0.0dev,>=3.20.3 in /usr/local/lib/python3.10/dist-packages (from tensorflow<2.14,>=2.13.0->tensorflow-text==2.13.*) (3.20.3)\n",
            "Requirement already satisfied: setuptools in /usr/local/lib/python3.10/dist-packages (from tensorflow<2.14,>=2.13.0->tensorflow-text==2.13.*) (67.7.2)\n",
            "Requirement already satisfied: six>=1.12.0 in /usr/local/lib/python3.10/dist-packages (from tensorflow<2.14,>=2.13.0->tensorflow-text==2.13.*) (1.16.0)\n",
            "Requirement already satisfied: tensorboard<2.14,>=2.13 in /usr/local/lib/python3.10/dist-packages (from tensorflow<2.14,>=2.13.0->tensorflow-text==2.13.*) (2.13.0)\n",
            "Requirement already satisfied: tensorflow-estimator<2.14,>=2.13.0 in /usr/local/lib/python3.10/dist-packages (from tensorflow<2.14,>=2.13.0->tensorflow-text==2.13.*) (2.13.0)\n",
            "Requirement already satisfied: termcolor>=1.1.0 in /usr/local/lib/python3.10/dist-packages (from tensorflow<2.14,>=2.13.0->tensorflow-text==2.13.*) (2.3.0)\n",
            "Requirement already satisfied: typing-extensions<4.6.0,>=3.6.6 in /usr/local/lib/python3.10/dist-packages (from tensorflow<2.14,>=2.13.0->tensorflow-text==2.13.*) (4.5.0)\n",
            "Requirement already satisfied: wrapt>=1.11.0 in /usr/local/lib/python3.10/dist-packages (from tensorflow<2.14,>=2.13.0->tensorflow-text==2.13.*) (1.14.1)\n",
            "Requirement already satisfied: tensorflow-io-gcs-filesystem>=0.23.1 in /usr/local/lib/python3.10/dist-packages (from tensorflow<2.14,>=2.13.0->tensorflow-text==2.13.*) (0.34.0)\n",
            "Requirement already satisfied: wheel<1.0,>=0.23.0 in /usr/local/lib/python3.10/dist-packages (from astunparse>=1.6.0->tensorflow<2.14,>=2.13.0->tensorflow-text==2.13.*) (0.42.0)\n",
            "Requirement already satisfied: google-auth<3,>=1.6.3 in /usr/local/lib/python3.10/dist-packages (from tensorboard<2.14,>=2.13->tensorflow<2.14,>=2.13.0->tensorflow-text==2.13.*) (2.17.3)\n",
            "Requirement already satisfied: google-auth-oauthlib<1.1,>=0.5 in /usr/local/lib/python3.10/dist-packages (from tensorboard<2.14,>=2.13->tensorflow<2.14,>=2.13.0->tensorflow-text==2.13.*) (1.0.0)\n",
            "Requirement already satisfied: markdown>=2.6.8 in /usr/local/lib/python3.10/dist-packages (from tensorboard<2.14,>=2.13->tensorflow<2.14,>=2.13.0->tensorflow-text==2.13.*) (3.5.1)\n",
            "Requirement already satisfied: requests<3,>=2.21.0 in /usr/local/lib/python3.10/dist-packages (from tensorboard<2.14,>=2.13->tensorflow<2.14,>=2.13.0->tensorflow-text==2.13.*) (2.31.0)\n",
            "Requirement already satisfied: tensorboard-data-server<0.8.0,>=0.7.0 in /usr/local/lib/python3.10/dist-packages (from tensorboard<2.14,>=2.13->tensorflow<2.14,>=2.13.0->tensorflow-text==2.13.*) (0.7.2)\n",
            "Requirement already satisfied: werkzeug>=1.0.1 in /usr/local/lib/python3.10/dist-packages (from tensorboard<2.14,>=2.13->tensorflow<2.14,>=2.13.0->tensorflow-text==2.13.*) (3.0.1)\n",
            "Requirement already satisfied: cachetools<6.0,>=2.0.0 in /usr/local/lib/python3.10/dist-packages (from google-auth<3,>=1.6.3->tensorboard<2.14,>=2.13->tensorflow<2.14,>=2.13.0->tensorflow-text==2.13.*) (5.3.2)\n",
            "Requirement already satisfied: pyasn1-modules>=0.2.1 in /usr/local/lib/python3.10/dist-packages (from google-auth<3,>=1.6.3->tensorboard<2.14,>=2.13->tensorflow<2.14,>=2.13.0->tensorflow-text==2.13.*) (0.3.0)\n",
            "Requirement already satisfied: rsa<5,>=3.1.4 in /usr/local/lib/python3.10/dist-packages (from google-auth<3,>=1.6.3->tensorboard<2.14,>=2.13->tensorflow<2.14,>=2.13.0->tensorflow-text==2.13.*) (4.9)\n",
            "Requirement already satisfied: requests-oauthlib>=0.7.0 in /usr/local/lib/python3.10/dist-packages (from google-auth-oauthlib<1.1,>=0.5->tensorboard<2.14,>=2.13->tensorflow<2.14,>=2.13.0->tensorflow-text==2.13.*) (1.3.1)\n",
            "Requirement already satisfied: charset-normalizer<4,>=2 in /usr/local/lib/python3.10/dist-packages (from requests<3,>=2.21.0->tensorboard<2.14,>=2.13->tensorflow<2.14,>=2.13.0->tensorflow-text==2.13.*) (3.3.2)\n",
            "Requirement already satisfied: idna<4,>=2.5 in /usr/local/lib/python3.10/dist-packages (from requests<3,>=2.21.0->tensorboard<2.14,>=2.13->tensorflow<2.14,>=2.13.0->tensorflow-text==2.13.*) (3.6)\n",
            "Requirement already satisfied: urllib3<3,>=1.21.1 in /usr/local/lib/python3.10/dist-packages (from requests<3,>=2.21.0->tensorboard<2.14,>=2.13->tensorflow<2.14,>=2.13.0->tensorflow-text==2.13.*) (2.0.7)\n",
            "Requirement already satisfied: certifi>=2017.4.17 in /usr/local/lib/python3.10/dist-packages (from requests<3,>=2.21.0->tensorboard<2.14,>=2.13->tensorflow<2.14,>=2.13.0->tensorflow-text==2.13.*) (2023.11.17)\n",
            "Requirement already satisfied: MarkupSafe>=2.1.1 in /usr/local/lib/python3.10/dist-packages (from werkzeug>=1.0.1->tensorboard<2.14,>=2.13->tensorflow<2.14,>=2.13.0->tensorflow-text==2.13.*) (2.1.3)\n",
            "Requirement already satisfied: pyasn1<0.6.0,>=0.4.6 in /usr/local/lib/python3.10/dist-packages (from pyasn1-modules>=0.2.1->google-auth<3,>=1.6.3->tensorboard<2.14,>=2.13->tensorflow<2.14,>=2.13.0->tensorflow-text==2.13.*) (0.5.1)\n",
            "Requirement already satisfied: oauthlib>=3.0.0 in /usr/local/lib/python3.10/dist-packages (from requests-oauthlib>=0.7.0->google-auth-oauthlib<1.1,>=0.5->tensorboard<2.14,>=2.13->tensorflow<2.14,>=2.13.0->tensorflow-text==2.13.*) (3.2.2)\n"
          ]
        }
      ],
      "source": [
        "# A dependency of the preprocessing for BERT inputs\n",
        "!pip install -U \"tensorflow-text==2.13.*\""
      ]
    },
    {
      "cell_type": "code",
      "source": [
        "import numpy as np\n",
        "np.save('x.npy', X_train)\n",
        "np.save('y.npy', y_train)"
      ],
      "metadata": {
        "id": "8RG86_dik2KK"
      },
      "execution_count": null,
      "outputs": []
    },
    {
      "cell_type": "markdown",
      "metadata": {
        "id": "5w_XlxN1IsRJ"
      },
      "source": [
        "You will use the AdamW optimizer from [tensorflow/models](https://github.com/tensorflow/models)."
      ]
    },
    {
      "cell_type": "code",
      "execution_count": null,
      "metadata": {
        "colab": {
          "base_uri": "https://localhost:8080/"
        },
        "id": "b-P1ZOA0FkVJ",
        "outputId": "db15b98c-643c-428f-d6a0-1dfba014aa6e"
      },
      "outputs": [
        {
          "output_type": "stream",
          "name": "stdout",
          "text": [
            "Requirement already satisfied: tf-models-official==2.13.* in /usr/local/lib/python3.10/dist-packages (2.13.2)\n",
            "Requirement already satisfied: Cython in /usr/local/lib/python3.10/dist-packages (from tf-models-official==2.13.*) (3.0.6)\n",
            "Requirement already satisfied: Pillow in /usr/local/lib/python3.10/dist-packages (from tf-models-official==2.13.*) (9.4.0)\n",
            "Requirement already satisfied: gin-config in /usr/local/lib/python3.10/dist-packages (from tf-models-official==2.13.*) (0.5.0)\n",
            "Requirement already satisfied: google-api-python-client>=1.6.7 in /usr/local/lib/python3.10/dist-packages (from tf-models-official==2.13.*) (2.84.0)\n",
            "Requirement already satisfied: immutabledict in /usr/local/lib/python3.10/dist-packages (from tf-models-official==2.13.*) (4.0.0)\n",
            "Requirement already satisfied: kaggle>=1.3.9 in /usr/local/lib/python3.10/dist-packages (from tf-models-official==2.13.*) (1.5.16)\n",
            "Requirement already satisfied: matplotlib in /usr/local/lib/python3.10/dist-packages (from tf-models-official==2.13.*) (3.7.1)\n",
            "Requirement already satisfied: numpy>=1.20 in /usr/local/lib/python3.10/dist-packages (from tf-models-official==2.13.*) (1.23.5)\n",
            "Requirement already satisfied: oauth2client in /usr/local/lib/python3.10/dist-packages (from tf-models-official==2.13.*) (4.1.3)\n",
            "Requirement already satisfied: opencv-python-headless in /usr/local/lib/python3.10/dist-packages (from tf-models-official==2.13.*) (4.8.1.78)\n",
            "Requirement already satisfied: pandas>=0.22.0 in /usr/local/lib/python3.10/dist-packages (from tf-models-official==2.13.*) (1.5.3)\n",
            "Requirement already satisfied: psutil>=5.4.3 in /usr/local/lib/python3.10/dist-packages (from tf-models-official==2.13.*) (5.9.5)\n",
            "Requirement already satisfied: py-cpuinfo>=3.3.0 in /usr/local/lib/python3.10/dist-packages (from tf-models-official==2.13.*) (9.0.0)\n",
            "Requirement already satisfied: pycocotools in /usr/local/lib/python3.10/dist-packages (from tf-models-official==2.13.*) (2.0.7)\n",
            "Requirement already satisfied: pyyaml>=6.0.0 in /usr/local/lib/python3.10/dist-packages (from tf-models-official==2.13.*) (6.0.1)\n",
            "Requirement already satisfied: sacrebleu in /usr/local/lib/python3.10/dist-packages (from tf-models-official==2.13.*) (2.3.3)\n",
            "Requirement already satisfied: scipy>=0.19.1 in /usr/local/lib/python3.10/dist-packages (from tf-models-official==2.13.*) (1.11.4)\n",
            "Requirement already satisfied: sentencepiece in /usr/local/lib/python3.10/dist-packages (from tf-models-official==2.13.*) (0.1.99)\n",
            "Requirement already satisfied: seqeval in /usr/local/lib/python3.10/dist-packages (from tf-models-official==2.13.*) (1.2.2)\n",
            "Requirement already satisfied: six in /usr/local/lib/python3.10/dist-packages (from tf-models-official==2.13.*) (1.16.0)\n",
            "Requirement already satisfied: tensorflow-datasets in /usr/local/lib/python3.10/dist-packages (from tf-models-official==2.13.*) (4.9.3)\n",
            "Requirement already satisfied: tensorflow-hub>=0.6.0 in /usr/local/lib/python3.10/dist-packages (from tf-models-official==2.13.*) (0.15.0)\n",
            "Requirement already satisfied: tensorflow-model-optimization>=0.4.1 in /usr/local/lib/python3.10/dist-packages (from tf-models-official==2.13.*) (0.7.5)\n",
            "Requirement already satisfied: tensorflow-text~=2.13.0 in /usr/local/lib/python3.10/dist-packages (from tf-models-official==2.13.*) (2.13.0)\n",
            "Requirement already satisfied: tensorflow~=2.13.0 in /usr/local/lib/python3.10/dist-packages (from tf-models-official==2.13.*) (2.13.1)\n",
            "Requirement already satisfied: tf-slim>=1.1.0 in /usr/local/lib/python3.10/dist-packages (from tf-models-official==2.13.*) (1.1.0)\n",
            "Requirement already satisfied: httplib2<1dev,>=0.15.0 in /usr/local/lib/python3.10/dist-packages (from google-api-python-client>=1.6.7->tf-models-official==2.13.*) (0.22.0)\n",
            "Requirement already satisfied: google-auth<3.0.0dev,>=1.19.0 in /usr/local/lib/python3.10/dist-packages (from google-api-python-client>=1.6.7->tf-models-official==2.13.*) (2.17.3)\n",
            "Requirement already satisfied: google-auth-httplib2>=0.1.0 in /usr/local/lib/python3.10/dist-packages (from google-api-python-client>=1.6.7->tf-models-official==2.13.*) (0.1.1)\n",
            "Requirement already satisfied: google-api-core!=2.0.*,!=2.1.*,!=2.2.*,!=2.3.0,<3.0.0dev,>=1.31.5 in /usr/local/lib/python3.10/dist-packages (from google-api-python-client>=1.6.7->tf-models-official==2.13.*) (2.11.1)\n",
            "Requirement already satisfied: uritemplate<5,>=3.0.1 in /usr/local/lib/python3.10/dist-packages (from google-api-python-client>=1.6.7->tf-models-official==2.13.*) (4.1.1)\n",
            "Requirement already satisfied: certifi in /usr/local/lib/python3.10/dist-packages (from kaggle>=1.3.9->tf-models-official==2.13.*) (2023.11.17)\n",
            "Requirement already satisfied: python-dateutil in /usr/local/lib/python3.10/dist-packages (from kaggle>=1.3.9->tf-models-official==2.13.*) (2.8.2)\n",
            "Requirement already satisfied: requests in /usr/local/lib/python3.10/dist-packages (from kaggle>=1.3.9->tf-models-official==2.13.*) (2.31.0)\n",
            "Requirement already satisfied: tqdm in /usr/local/lib/python3.10/dist-packages (from kaggle>=1.3.9->tf-models-official==2.13.*) (4.66.1)\n",
            "Requirement already satisfied: python-slugify in /usr/local/lib/python3.10/dist-packages (from kaggle>=1.3.9->tf-models-official==2.13.*) (8.0.1)\n",
            "Requirement already satisfied: urllib3 in /usr/local/lib/python3.10/dist-packages (from kaggle>=1.3.9->tf-models-official==2.13.*) (2.0.7)\n",
            "Requirement already satisfied: bleach in /usr/local/lib/python3.10/dist-packages (from kaggle>=1.3.9->tf-models-official==2.13.*) (6.1.0)\n",
            "Requirement already satisfied: pytz>=2020.1 in /usr/local/lib/python3.10/dist-packages (from pandas>=0.22.0->tf-models-official==2.13.*) (2023.3.post1)\n",
            "Requirement already satisfied: absl-py>=1.0.0 in /usr/local/lib/python3.10/dist-packages (from tensorflow~=2.13.0->tf-models-official==2.13.*) (1.4.0)\n",
            "Requirement already satisfied: astunparse>=1.6.0 in /usr/local/lib/python3.10/dist-packages (from tensorflow~=2.13.0->tf-models-official==2.13.*) (1.6.3)\n",
            "Requirement already satisfied: flatbuffers>=23.1.21 in /usr/local/lib/python3.10/dist-packages (from tensorflow~=2.13.0->tf-models-official==2.13.*) (23.5.26)\n",
            "Requirement already satisfied: gast<=0.4.0,>=0.2.1 in /usr/local/lib/python3.10/dist-packages (from tensorflow~=2.13.0->tf-models-official==2.13.*) (0.4.0)\n",
            "Requirement already satisfied: google-pasta>=0.1.1 in /usr/local/lib/python3.10/dist-packages (from tensorflow~=2.13.0->tf-models-official==2.13.*) (0.2.0)\n",
            "Requirement already satisfied: grpcio<2.0,>=1.24.3 in /usr/local/lib/python3.10/dist-packages (from tensorflow~=2.13.0->tf-models-official==2.13.*) (1.59.3)\n",
            "Requirement already satisfied: h5py>=2.9.0 in /usr/local/lib/python3.10/dist-packages (from tensorflow~=2.13.0->tf-models-official==2.13.*) (3.9.0)\n",
            "Requirement already satisfied: keras<2.14,>=2.13.1 in /usr/local/lib/python3.10/dist-packages (from tensorflow~=2.13.0->tf-models-official==2.13.*) (2.13.1)\n",
            "Requirement already satisfied: libclang>=13.0.0 in /usr/local/lib/python3.10/dist-packages (from tensorflow~=2.13.0->tf-models-official==2.13.*) (16.0.6)\n",
            "Requirement already satisfied: opt-einsum>=2.3.2 in /usr/local/lib/python3.10/dist-packages (from tensorflow~=2.13.0->tf-models-official==2.13.*) (3.3.0)\n",
            "Requirement already satisfied: packaging in /usr/local/lib/python3.10/dist-packages (from tensorflow~=2.13.0->tf-models-official==2.13.*) (23.2)\n",
            "Requirement already satisfied: protobuf!=4.21.0,!=4.21.1,!=4.21.2,!=4.21.3,!=4.21.4,!=4.21.5,<5.0.0dev,>=3.20.3 in /usr/local/lib/python3.10/dist-packages (from tensorflow~=2.13.0->tf-models-official==2.13.*) (3.20.3)\n",
            "Requirement already satisfied: setuptools in /usr/local/lib/python3.10/dist-packages (from tensorflow~=2.13.0->tf-models-official==2.13.*) (67.7.2)\n",
            "Requirement already satisfied: tensorboard<2.14,>=2.13 in /usr/local/lib/python3.10/dist-packages (from tensorflow~=2.13.0->tf-models-official==2.13.*) (2.13.0)\n",
            "Requirement already satisfied: tensorflow-estimator<2.14,>=2.13.0 in /usr/local/lib/python3.10/dist-packages (from tensorflow~=2.13.0->tf-models-official==2.13.*) (2.13.0)\n",
            "Requirement already satisfied: termcolor>=1.1.0 in /usr/local/lib/python3.10/dist-packages (from tensorflow~=2.13.0->tf-models-official==2.13.*) (2.3.0)\n",
            "Requirement already satisfied: typing-extensions<4.6.0,>=3.6.6 in /usr/local/lib/python3.10/dist-packages (from tensorflow~=2.13.0->tf-models-official==2.13.*) (4.5.0)\n",
            "Requirement already satisfied: wrapt>=1.11.0 in /usr/local/lib/python3.10/dist-packages (from tensorflow~=2.13.0->tf-models-official==2.13.*) (1.14.1)\n",
            "Requirement already satisfied: tensorflow-io-gcs-filesystem>=0.23.1 in /usr/local/lib/python3.10/dist-packages (from tensorflow~=2.13.0->tf-models-official==2.13.*) (0.34.0)\n",
            "Requirement already satisfied: dm-tree~=0.1.1 in /usr/local/lib/python3.10/dist-packages (from tensorflow-model-optimization>=0.4.1->tf-models-official==2.13.*) (0.1.8)\n",
            "Requirement already satisfied: contourpy>=1.0.1 in /usr/local/lib/python3.10/dist-packages (from matplotlib->tf-models-official==2.13.*) (1.2.0)\n",
            "Requirement already satisfied: cycler>=0.10 in /usr/local/lib/python3.10/dist-packages (from matplotlib->tf-models-official==2.13.*) (0.12.1)\n",
            "Requirement already satisfied: fonttools>=4.22.0 in /usr/local/lib/python3.10/dist-packages (from matplotlib->tf-models-official==2.13.*) (4.45.1)\n",
            "Requirement already satisfied: kiwisolver>=1.0.1 in /usr/local/lib/python3.10/dist-packages (from matplotlib->tf-models-official==2.13.*) (1.4.5)\n",
            "Requirement already satisfied: pyparsing>=2.3.1 in /usr/local/lib/python3.10/dist-packages (from matplotlib->tf-models-official==2.13.*) (3.1.1)\n",
            "Requirement already satisfied: pyasn1>=0.1.7 in /usr/local/lib/python3.10/dist-packages (from oauth2client->tf-models-official==2.13.*) (0.5.1)\n",
            "Requirement already satisfied: pyasn1-modules>=0.0.5 in /usr/local/lib/python3.10/dist-packages (from oauth2client->tf-models-official==2.13.*) (0.3.0)\n",
            "Requirement already satisfied: rsa>=3.1.4 in /usr/local/lib/python3.10/dist-packages (from oauth2client->tf-models-official==2.13.*) (4.9)\n",
            "Requirement already satisfied: portalocker in /usr/local/lib/python3.10/dist-packages (from sacrebleu->tf-models-official==2.13.*) (2.8.2)\n",
            "Requirement already satisfied: regex in /usr/local/lib/python3.10/dist-packages (from sacrebleu->tf-models-official==2.13.*) (2023.6.3)\n",
            "Requirement already satisfied: tabulate>=0.8.9 in /usr/local/lib/python3.10/dist-packages (from sacrebleu->tf-models-official==2.13.*) (0.9.0)\n",
            "Requirement already satisfied: colorama in /usr/local/lib/python3.10/dist-packages (from sacrebleu->tf-models-official==2.13.*) (0.4.6)\n",
            "Requirement already satisfied: lxml in /usr/local/lib/python3.10/dist-packages (from sacrebleu->tf-models-official==2.13.*) (4.9.3)\n",
            "Requirement already satisfied: scikit-learn>=0.21.3 in /usr/local/lib/python3.10/dist-packages (from seqeval->tf-models-official==2.13.*) (1.2.2)\n",
            "Requirement already satisfied: array-record in /usr/local/lib/python3.10/dist-packages (from tensorflow-datasets->tf-models-official==2.13.*) (0.5.0)\n",
            "Requirement already satisfied: click in /usr/local/lib/python3.10/dist-packages (from tensorflow-datasets->tf-models-official==2.13.*) (8.1.7)\n",
            "Requirement already satisfied: etils[enp,epath,etree]>=0.9.0 in /usr/local/lib/python3.10/dist-packages (from tensorflow-datasets->tf-models-official==2.13.*) (1.5.2)\n",
            "Requirement already satisfied: promise in /usr/local/lib/python3.10/dist-packages (from tensorflow-datasets->tf-models-official==2.13.*) (2.3)\n",
            "Requirement already satisfied: tensorflow-metadata in /usr/local/lib/python3.10/dist-packages (from tensorflow-datasets->tf-models-official==2.13.*) (1.14.0)\n",
            "Requirement already satisfied: toml in /usr/local/lib/python3.10/dist-packages (from tensorflow-datasets->tf-models-official==2.13.*) (0.10.2)\n",
            "Requirement already satisfied: wheel<1.0,>=0.23.0 in /usr/local/lib/python3.10/dist-packages (from astunparse>=1.6.0->tensorflow~=2.13.0->tf-models-official==2.13.*) (0.42.0)\n",
            "Requirement already satisfied: fsspec in /usr/local/lib/python3.10/dist-packages (from etils[enp,epath,etree]>=0.9.0->tensorflow-datasets->tf-models-official==2.13.*) (2023.6.0)\n",
            "Requirement already satisfied: importlib_resources in /usr/local/lib/python3.10/dist-packages (from etils[enp,epath,etree]>=0.9.0->tensorflow-datasets->tf-models-official==2.13.*) (6.1.1)\n",
            "Requirement already satisfied: zipp in /usr/local/lib/python3.10/dist-packages (from etils[enp,epath,etree]>=0.9.0->tensorflow-datasets->tf-models-official==2.13.*) (3.17.0)\n",
            "Requirement already satisfied: googleapis-common-protos<2.0.dev0,>=1.56.2 in /usr/local/lib/python3.10/dist-packages (from google-api-core!=2.0.*,!=2.1.*,!=2.2.*,!=2.3.0,<3.0.0dev,>=1.31.5->google-api-python-client>=1.6.7->tf-models-official==2.13.*) (1.61.0)\n",
            "Requirement already satisfied: cachetools<6.0,>=2.0.0 in /usr/local/lib/python3.10/dist-packages (from google-auth<3.0.0dev,>=1.19.0->google-api-python-client>=1.6.7->tf-models-official==2.13.*) (5.3.2)\n",
            "Requirement already satisfied: charset-normalizer<4,>=2 in /usr/local/lib/python3.10/dist-packages (from requests->kaggle>=1.3.9->tf-models-official==2.13.*) (3.3.2)\n",
            "Requirement already satisfied: idna<4,>=2.5 in /usr/local/lib/python3.10/dist-packages (from requests->kaggle>=1.3.9->tf-models-official==2.13.*) (3.6)\n",
            "Requirement already satisfied: joblib>=1.1.1 in /usr/local/lib/python3.10/dist-packages (from scikit-learn>=0.21.3->seqeval->tf-models-official==2.13.*) (1.3.2)\n",
            "Requirement already satisfied: threadpoolctl>=2.0.0 in /usr/local/lib/python3.10/dist-packages (from scikit-learn>=0.21.3->seqeval->tf-models-official==2.13.*) (3.2.0)\n",
            "Requirement already satisfied: google-auth-oauthlib<1.1,>=0.5 in /usr/local/lib/python3.10/dist-packages (from tensorboard<2.14,>=2.13->tensorflow~=2.13.0->tf-models-official==2.13.*) (1.0.0)\n",
            "Requirement already satisfied: markdown>=2.6.8 in /usr/local/lib/python3.10/dist-packages (from tensorboard<2.14,>=2.13->tensorflow~=2.13.0->tf-models-official==2.13.*) (3.5.1)\n",
            "Requirement already satisfied: tensorboard-data-server<0.8.0,>=0.7.0 in /usr/local/lib/python3.10/dist-packages (from tensorboard<2.14,>=2.13->tensorflow~=2.13.0->tf-models-official==2.13.*) (0.7.2)\n",
            "Requirement already satisfied: werkzeug>=1.0.1 in /usr/local/lib/python3.10/dist-packages (from tensorboard<2.14,>=2.13->tensorflow~=2.13.0->tf-models-official==2.13.*) (3.0.1)\n",
            "Requirement already satisfied: webencodings in /usr/local/lib/python3.10/dist-packages (from bleach->kaggle>=1.3.9->tf-models-official==2.13.*) (0.5.1)\n",
            "Requirement already satisfied: text-unidecode>=1.3 in /usr/local/lib/python3.10/dist-packages (from python-slugify->kaggle>=1.3.9->tf-models-official==2.13.*) (1.3)\n",
            "Requirement already satisfied: requests-oauthlib>=0.7.0 in /usr/local/lib/python3.10/dist-packages (from google-auth-oauthlib<1.1,>=0.5->tensorboard<2.14,>=2.13->tensorflow~=2.13.0->tf-models-official==2.13.*) (1.3.1)\n",
            "Requirement already satisfied: MarkupSafe>=2.1.1 in /usr/local/lib/python3.10/dist-packages (from werkzeug>=1.0.1->tensorboard<2.14,>=2.13->tensorflow~=2.13.0->tf-models-official==2.13.*) (2.1.3)\n",
            "Requirement already satisfied: oauthlib>=3.0.0 in /usr/local/lib/python3.10/dist-packages (from requests-oauthlib>=0.7.0->google-auth-oauthlib<1.1,>=0.5->tensorboard<2.14,>=2.13->tensorflow~=2.13.0->tf-models-official==2.13.*) (3.2.2)\n"
          ]
        }
      ],
      "source": [
        "!pip install \"tf-models-official==2.13.*\""
      ]
    },
    {
      "cell_type": "code",
      "execution_count": null,
      "metadata": {
        "id": "_XgTpm9ZxoN9"
      },
      "outputs": [],
      "source": [
        "import os\n",
        "import shutil\n",
        "\n",
        "import tensorflow as tf\n",
        "import tensorflow_hub as hub\n",
        "import tensorflow_text as text\n",
        "from official.nlp import optimization  # to create AdamW optimizer\n",
        "\n",
        "import matplotlib.pyplot as plt\n",
        "\n",
        "tf.get_logger().setLevel('ERROR')"
      ]
    },
    {
      "cell_type": "code",
      "execution_count": null,
      "metadata": {
        "cellView": "form",
        "colab": {
          "base_uri": "https://localhost:8080/"
        },
        "id": "y8_ctG55-uTX",
        "outputId": "7ef5f457-b86e-4e37-e1dc-8b89a7ca7a25"
      },
      "outputs": [
        {
          "output_type": "stream",
          "name": "stdout",
          "text": [
            "BERT model selected           : https://tfhub.dev/tensorflow/small_bert/bert_en_uncased_L-2_H-256_A-4/1\n",
            "Preprocess model auto-selected: https://tfhub.dev/tensorflow/bert_en_uncased_preprocess/3\n"
          ]
        }
      ],
      "source": [
        "#@title Choose a BERT model to fine-tune\n",
        "\n",
        "bert_model_name = 'small_bert/bert_en_uncased_L-2_H-256_A-4'  #@param [\"bert_en_uncased_L-12_H-768_A-12\", \"bert_en_cased_L-12_H-768_A-12\", \"bert_multi_cased_L-12_H-768_A-12\", \"small_bert/bert_en_uncased_L-2_H-128_A-2\", \"small_bert/bert_en_uncased_L-2_H-256_A-4\", \"small_bert/bert_en_uncased_L-2_H-512_A-8\", \"small_bert/bert_en_uncased_L-2_H-768_A-12\", \"small_bert/bert_en_uncased_L-4_H-128_A-2\", \"small_bert/bert_en_uncased_L-4_H-256_A-4\", \"small_bert/bert_en_uncased_L-4_H-512_A-8\", \"small_bert/bert_en_uncased_L-4_H-768_A-12\", \"small_bert/bert_en_uncased_L-6_H-128_A-2\", \"small_bert/bert_en_uncased_L-6_H-256_A-4\", \"small_bert/bert_en_uncased_L-6_H-512_A-8\", \"small_bert/bert_en_uncased_L-6_H-768_A-12\", \"small_bert/bert_en_uncased_L-8_H-128_A-2\", \"small_bert/bert_en_uncased_L-8_H-256_A-4\", \"small_bert/bert_en_uncased_L-8_H-512_A-8\", \"small_bert/bert_en_uncased_L-8_H-768_A-12\", \"small_bert/bert_en_uncased_L-10_H-128_A-2\", \"small_bert/bert_en_uncased_L-10_H-256_A-4\", \"small_bert/bert_en_uncased_L-10_H-512_A-8\", \"small_bert/bert_en_uncased_L-10_H-768_A-12\", \"small_bert/bert_en_uncased_L-12_H-128_A-2\", \"small_bert/bert_en_uncased_L-12_H-256_A-4\", \"small_bert/bert_en_uncased_L-12_H-512_A-8\", \"small_bert/bert_en_uncased_L-12_H-768_A-12\", \"albert_en_base\", \"electra_small\", \"electra_base\", \"experts_pubmed\", \"experts_wiki_books\", \"talking-heads_base\"]\n",
        "\n",
        "map_name_to_handle = {\n",
        "    'bert_en_uncased_L-12_H-768_A-12':\n",
        "        'https://tfhub.dev/tensorflow/bert_en_uncased_L-12_H-768_A-12/3',\n",
        "    'bert_en_cased_L-12_H-768_A-12':\n",
        "        'https://tfhub.dev/tensorflow/bert_en_cased_L-12_H-768_A-12/3',\n",
        "    'bert_multi_cased_L-12_H-768_A-12':\n",
        "        'https://tfhub.dev/tensorflow/bert_multi_cased_L-12_H-768_A-12/3',\n",
        "    'small_bert/bert_en_uncased_L-2_H-128_A-2':\n",
        "        'https://tfhub.dev/tensorflow/small_bert/bert_en_uncased_L-2_H-128_A-2/1',\n",
        "    'small_bert/bert_en_uncased_L-2_H-256_A-4':\n",
        "        'https://tfhub.dev/tensorflow/small_bert/bert_en_uncased_L-2_H-256_A-4/1',\n",
        "    'small_bert/bert_en_uncased_L-2_H-512_A-8':\n",
        "        'https://tfhub.dev/tensorflow/small_bert/bert_en_uncased_L-2_H-512_A-8/1',\n",
        "    'small_bert/bert_en_uncased_L-2_H-768_A-12':\n",
        "        'https://tfhub.dev/tensorflow/small_bert/bert_en_uncased_L-2_H-768_A-12/1',\n",
        "    'small_bert/bert_en_uncased_L-4_H-128_A-2':\n",
        "        'https://tfhub.dev/tensorflow/small_bert/bert_en_uncased_L-4_H-128_A-2/1',\n",
        "    'small_bert/bert_en_uncased_L-4_H-256_A-4':\n",
        "        'https://tfhub.dev/tensorflow/small_bert/bert_en_uncased_L-4_H-256_A-4/1',\n",
        "    'small_bert/bert_en_uncased_L-4_H-512_A-8':\n",
        "        'https://tfhub.dev/tensorflow/small_bert/bert_en_uncased_L-4_H-512_A-8/1',\n",
        "    'small_bert/bert_en_uncased_L-4_H-768_A-12':\n",
        "        'https://tfhub.dev/tensorflow/small_bert/bert_en_uncased_L-4_H-768_A-12/1',\n",
        "    'small_bert/bert_en_uncased_L-6_H-128_A-2':\n",
        "        'https://tfhub.dev/tensorflow/small_bert/bert_en_uncased_L-6_H-128_A-2/1',\n",
        "    'small_bert/bert_en_uncased_L-6_H-256_A-4':\n",
        "        'https://tfhub.dev/tensorflow/small_bert/bert_en_uncased_L-6_H-256_A-4/1',\n",
        "    'small_bert/bert_en_uncased_L-6_H-512_A-8':\n",
        "        'https://tfhub.dev/tensorflow/small_bert/bert_en_uncased_L-6_H-512_A-8/1',\n",
        "    'small_bert/bert_en_uncased_L-6_H-768_A-12':\n",
        "        'https://tfhub.dev/tensorflow/small_bert/bert_en_uncased_L-6_H-768_A-12/1',\n",
        "    'small_bert/bert_en_uncased_L-8_H-128_A-2':\n",
        "        'https://tfhub.dev/tensorflow/small_bert/bert_en_uncased_L-8_H-128_A-2/1',\n",
        "    'small_bert/bert_en_uncased_L-8_H-256_A-4':\n",
        "        'https://tfhub.dev/tensorflow/small_bert/bert_en_uncased_L-8_H-256_A-4/1',\n",
        "    'small_bert/bert_en_uncased_L-8_H-512_A-8':\n",
        "        'https://tfhub.dev/tensorflow/small_bert/bert_en_uncased_L-8_H-512_A-8/1',\n",
        "    'small_bert/bert_en_uncased_L-8_H-768_A-12':\n",
        "        'https://tfhub.dev/tensorflow/small_bert/bert_en_uncased_L-8_H-768_A-12/1',\n",
        "    'small_bert/bert_en_uncased_L-10_H-128_A-2':\n",
        "        'https://tfhub.dev/tensorflow/small_bert/bert_en_uncased_L-10_H-128_A-2/1',\n",
        "    'small_bert/bert_en_uncased_L-10_H-256_A-4':\n",
        "        'https://tfhub.dev/tensorflow/small_bert/bert_en_uncased_L-10_H-256_A-4/1',\n",
        "    'small_bert/bert_en_uncased_L-10_H-512_A-8':\n",
        "        'https://tfhub.dev/tensorflow/small_bert/bert_en_uncased_L-10_H-512_A-8/1',\n",
        "    'small_bert/bert_en_uncased_L-10_H-768_A-12':\n",
        "        'https://tfhub.dev/tensorflow/small_bert/bert_en_uncased_L-10_H-768_A-12/1',\n",
        "    'small_bert/bert_en_uncased_L-12_H-128_A-2':\n",
        "        'https://tfhub.dev/tensorflow/small_bert/bert_en_uncased_L-12_H-128_A-2/1',\n",
        "    'small_bert/bert_en_uncased_L-12_H-256_A-4':\n",
        "        'https://tfhub.dev/tensorflow/small_bert/bert_en_uncased_L-12_H-256_A-4/1',\n",
        "    'small_bert/bert_en_uncased_L-12_H-512_A-8':\n",
        "        'https://tfhub.dev/tensorflow/small_bert/bert_en_uncased_L-12_H-512_A-8/1',\n",
        "    'small_bert/bert_en_uncased_L-12_H-768_A-12':\n",
        "        'https://tfhub.dev/tensorflow/small_bert/bert_en_uncased_L-12_H-768_A-12/1',\n",
        "    'albert_en_base':\n",
        "        'https://tfhub.dev/tensorflow/albert_en_base/2',\n",
        "    'electra_small':\n",
        "        'https://tfhub.dev/google/electra_small/2',\n",
        "    'electra_base':\n",
        "        'https://tfhub.dev/google/electra_base/2',\n",
        "    'experts_pubmed':\n",
        "        'https://tfhub.dev/google/experts/bert/pubmed/2',\n",
        "    'experts_wiki_books':\n",
        "        'https://tfhub.dev/google/experts/bert/wiki_books/2',\n",
        "    'talking-heads_base':\n",
        "        'https://tfhub.dev/tensorflow/talkheads_ggelu_bert_en_base/1',\n",
        "}\n",
        "\n",
        "map_model_to_preprocess = {\n",
        "    'bert_en_uncased_L-12_H-768_A-12':\n",
        "        'https://tfhub.dev/tensorflow/bert_en_uncased_preprocess/3',\n",
        "    'bert_en_cased_L-12_H-768_A-12':\n",
        "        'https://tfhub.dev/tensorflow/bert_en_cased_preprocess/3',\n",
        "    'small_bert/bert_en_uncased_L-2_H-128_A-2':\n",
        "        'https://tfhub.dev/tensorflow/bert_en_uncased_preprocess/3',\n",
        "    'small_bert/bert_en_uncased_L-2_H-256_A-4':\n",
        "        'https://tfhub.dev/tensorflow/bert_en_uncased_preprocess/3',\n",
        "    'small_bert/bert_en_uncased_L-2_H-512_A-8':\n",
        "        'https://tfhub.dev/tensorflow/bert_en_uncased_preprocess/3',\n",
        "    'small_bert/bert_en_uncased_L-2_H-768_A-12':\n",
        "        'https://tfhub.dev/tensorflow/bert_en_uncased_preprocess/3',\n",
        "    'small_bert/bert_en_uncased_L-4_H-128_A-2':\n",
        "        'https://tfhub.dev/tensorflow/bert_en_uncased_preprocess/3',\n",
        "    'small_bert/bert_en_uncased_L-4_H-256_A-4':\n",
        "        'https://tfhub.dev/tensorflow/bert_en_uncased_preprocess/3',\n",
        "    'small_bert/bert_en_uncased_L-4_H-512_A-8':\n",
        "        'https://tfhub.dev/tensorflow/bert_en_uncased_preprocess/3',\n",
        "    'small_bert/bert_en_uncased_L-4_H-768_A-12':\n",
        "        'https://tfhub.dev/tensorflow/bert_en_uncased_preprocess/3',\n",
        "    'small_bert/bert_en_uncased_L-6_H-128_A-2':\n",
        "        'https://tfhub.dev/tensorflow/bert_en_uncased_preprocess/3',\n",
        "    'small_bert/bert_en_uncased_L-6_H-256_A-4':\n",
        "        'https://tfhub.dev/tensorflow/bert_en_uncased_preprocess/3',\n",
        "    'small_bert/bert_en_uncased_L-6_H-512_A-8':\n",
        "        'https://tfhub.dev/tensorflow/bert_en_uncased_preprocess/3',\n",
        "    'small_bert/bert_en_uncased_L-6_H-768_A-12':\n",
        "        'https://tfhub.dev/tensorflow/bert_en_uncased_preprocess/3',\n",
        "    'small_bert/bert_en_uncased_L-8_H-128_A-2':\n",
        "        'https://tfhub.dev/tensorflow/bert_en_uncased_preprocess/3',\n",
        "    'small_bert/bert_en_uncased_L-8_H-256_A-4':\n",
        "        'https://tfhub.dev/tensorflow/bert_en_uncased_preprocess/3',\n",
        "    'small_bert/bert_en_uncased_L-8_H-512_A-8':\n",
        "        'https://tfhub.dev/tensorflow/bert_en_uncased_preprocess/3',\n",
        "    'small_bert/bert_en_uncased_L-8_H-768_A-12':\n",
        "        'https://tfhub.dev/tensorflow/bert_en_uncased_preprocess/3',\n",
        "    'small_bert/bert_en_uncased_L-10_H-128_A-2':\n",
        "        'https://tfhub.dev/tensorflow/bert_en_uncased_preprocess/3',\n",
        "    'small_bert/bert_en_uncased_L-10_H-256_A-4':\n",
        "        'https://tfhub.dev/tensorflow/bert_en_uncased_preprocess/3',\n",
        "    'small_bert/bert_en_uncased_L-10_H-512_A-8':\n",
        "        'https://tfhub.dev/tensorflow/bert_en_uncased_preprocess/3',\n",
        "    'small_bert/bert_en_uncased_L-10_H-768_A-12':\n",
        "        'https://tfhub.dev/tensorflow/bert_en_uncased_preprocess/3',\n",
        "    'small_bert/bert_en_uncased_L-12_H-128_A-2':\n",
        "        'https://tfhub.dev/tensorflow/bert_en_uncased_preprocess/3',\n",
        "    'small_bert/bert_en_uncased_L-12_H-256_A-4':\n",
        "        'https://tfhub.dev/tensorflow/bert_en_uncased_preprocess/3',\n",
        "    'small_bert/bert_en_uncased_L-12_H-512_A-8':\n",
        "        'https://tfhub.dev/tensorflow/bert_en_uncased_preprocess/3',\n",
        "    'small_bert/bert_en_uncased_L-12_H-768_A-12':\n",
        "        'https://tfhub.dev/tensorflow/bert_en_uncased_preprocess/3',\n",
        "    'bert_multi_cased_L-12_H-768_A-12':\n",
        "        'https://tfhub.dev/tensorflow/bert_multi_cased_preprocess/3',\n",
        "    'albert_en_base':\n",
        "        'https://tfhub.dev/tensorflow/albert_en_preprocess/3',\n",
        "    'electra_small':\n",
        "        'https://tfhub.dev/tensorflow/bert_en_uncased_preprocess/3',\n",
        "    'electra_base':\n",
        "        'https://tfhub.dev/tensorflow/bert_en_uncased_preprocess/3',\n",
        "    'experts_pubmed':\n",
        "        'https://tfhub.dev/tensorflow/bert_en_uncased_preprocess/3',\n",
        "    'experts_wiki_books':\n",
        "        'https://tfhub.dev/tensorflow/bert_en_uncased_preprocess/3',\n",
        "    'talking-heads_base':\n",
        "        'https://tfhub.dev/tensorflow/bert_en_uncased_preprocess/3',\n",
        "}\n",
        "\n",
        "tfhub_handle_encoder = map_name_to_handle[bert_model_name]\n",
        "tfhub_handle_preprocess = map_model_to_preprocess[bert_model_name]\n",
        "\n",
        "print(f'BERT model selected           : {tfhub_handle_encoder}')\n",
        "print(f'Preprocess model auto-selected: {tfhub_handle_preprocess}')"
      ]
    },
    {
      "cell_type": "code",
      "execution_count": null,
      "metadata": {
        "id": "0SQi-jWd_jzq"
      },
      "outputs": [],
      "source": [
        "bert_preprocess_model = hub.KerasLayer(tfhub_handle_preprocess)"
      ]
    },
    {
      "cell_type": "markdown",
      "metadata": {
        "id": "x4naBiEE_cZX"
      },
      "source": [
        "Let's try the preprocessing model on some text and see the output:"
      ]
    },
    {
      "cell_type": "code",
      "execution_count": null,
      "metadata": {
        "colab": {
          "base_uri": "https://localhost:8080/"
        },
        "id": "r9-zCzJpnuwS",
        "outputId": "911d1308-b606-428b-98ec-d320fd049e82"
      },
      "outputs": [
        {
          "output_type": "stream",
          "name": "stdout",
          "text": [
            "Keys       : ['input_mask', 'input_type_ids', 'input_word_ids']\n",
            "Shape      : (1, 128)\n",
            "Word Ids   : [ 101 2023 2003 2107 2019 6429 3185  999  102    0    0    0]\n",
            "Input Mask : [1 1 1 1 1 1 1 1 1 0 0 0]\n",
            "Type Ids   : [0 0 0 0 0 0 0 0 0 0 0 0]\n"
          ]
        }
      ],
      "source": [
        "text_test = ['this is such an amazing movie!']\n",
        "text_preprocessed = bert_preprocess_model(text_test)\n",
        "\n",
        "print(f'Keys       : {list(text_preprocessed.keys())}')\n",
        "print(f'Shape      : {text_preprocessed[\"input_word_ids\"].shape}')\n",
        "print(f'Word Ids   : {text_preprocessed[\"input_word_ids\"][0, :12]}')\n",
        "print(f'Input Mask : {text_preprocessed[\"input_mask\"][0, :12]}')\n",
        "print(f'Type Ids   : {text_preprocessed[\"input_type_ids\"][0, :12]}')"
      ]
    },
    {
      "cell_type": "markdown",
      "metadata": {
        "id": "EqL7ihkN_862"
      },
      "source": [
        "As you can see, now you have the 3 outputs from the preprocessing that a BERT model would use (`input_words_id`, `input_mask` and `input_type_ids`).\n",
        "\n",
        "Some other important points:\n",
        "- The input is truncated to 128 tokens. The number of tokens can be customized, and you can see more details on the [Solve GLUE tasks using BERT on a TPU colab](https://www.tensorflow.org/text/tutorials/bert_glue).\n",
        "- The `input_type_ids` only have one value (0) because this is a single sentence input. For a multiple sentence input, it would have one number for each input.\n",
        "\n",
        "Since this text preprocessor is a TensorFlow model, It can be included in your model directly."
      ]
    },
    {
      "cell_type": "markdown",
      "metadata": {
        "id": "DKnLPSEmtp9i"
      },
      "source": [
        "## Using the BERT model\n",
        "\n",
        "Before putting BERT into your own model, let's take a look at its outputs. You will load it from TF Hub and see the returned values."
      ]
    },
    {
      "cell_type": "code",
      "execution_count": null,
      "metadata": {
        "id": "tXxYpK8ixL34"
      },
      "outputs": [],
      "source": [
        "bert_model = hub.KerasLayer(tfhub_handle_encoder)"
      ]
    },
    {
      "cell_type": "code",
      "execution_count": null,
      "metadata": {
        "colab": {
          "base_uri": "https://localhost:8080/"
        },
        "id": "_OoF9mebuSZc",
        "outputId": "7b90b6aa-5fc2-4992-c1b6-5a2f9ec91016"
      },
      "outputs": [
        {
          "output_type": "stream",
          "name": "stdout",
          "text": [
            "Loaded BERT: https://tfhub.dev/tensorflow/small_bert/bert_en_uncased_L-2_H-256_A-4/1\n",
            "Pooled Outputs Shape:(1, 256)\n",
            "Pooled Outputs Values:[ 0.9923972  -0.05357219  0.3091848   0.9505573  -0.05440651  0.9988622\n",
            " -0.9947893  -0.00854    -0.45510408 -0.08636717  0.83203906 -0.92552644]\n",
            "Sequence Outputs Shape:(1, 128, 256)\n",
            "Sequence Outputs Values:[[-0.9684545  -1.7037108   1.0094745  ...  0.8407504   0.35471287\n",
            "  -1.8288119 ]\n",
            " [-0.7315013  -0.9106693   0.30870247 ...  1.2626396   0.18190686\n",
            "  -0.8705797 ]\n",
            " [-1.1151164  -1.8587103   1.9688951  ...  0.4747224   1.1492233\n",
            "  -0.36351836]\n",
            " ...\n",
            " [-1.02494    -1.7695192   0.36316863 ...  0.35074943  0.18356091\n",
            "  -0.6765582 ]\n",
            " [-0.47082767 -2.0506608   0.2558354  ...  0.8501364   0.18506283\n",
            "  -0.6660285 ]\n",
            " [-0.14080307 -1.867622    0.6415791  ...  0.25832373  0.0461694\n",
            "  -0.14218213]]\n"
          ]
        }
      ],
      "source": [
        "bert_results = bert_model(text_preprocessed)\n",
        "\n",
        "print(f'Loaded BERT: {tfhub_handle_encoder}')\n",
        "print(f'Pooled Outputs Shape:{bert_results[\"pooled_output\"].shape}')\n",
        "print(f'Pooled Outputs Values:{bert_results[\"pooled_output\"][0, :12]}')\n",
        "print(f'Sequence Outputs Shape:{bert_results[\"sequence_output\"].shape}')\n",
        "print(f'Sequence Outputs Values:{bert_results[\"sequence_output\"][0, :12]}')"
      ]
    },
    {
      "cell_type": "markdown",
      "metadata": {
        "id": "sm61jDrezAll"
      },
      "source": [
        "The BERT models return a map with 3 important keys: `pooled_output`, `sequence_output`, `encoder_outputs`:\n",
        "\n",
        "- `pooled_output` represents each input sequence as a whole. The shape is `[batch_size, H]`. You can think of this as an embedding for the entire movie review.\n",
        "- `sequence_output` represents each input token in the context. The shape is `[batch_size, seq_length, H]`. You can think of this as a contextual embedding for every token in the movie review.\n",
        "- `encoder_outputs` are the intermediate activations of the `L` Transformer blocks. `outputs[\"encoder_outputs\"][i]` is a Tensor of shape `[batch_size, seq_length, 1024]` with the outputs of the i-th Transformer block, for `0 <= i < L`. The last value of the list is equal to `sequence_output`.\n",
        "\n",
        "For the fine-tuning you are going to use the `pooled_output` array."
      ]
    },
    {
      "cell_type": "code",
      "execution_count": null,
      "metadata": {
        "id": "aksj743St9ga"
      },
      "outputs": [],
      "source": [
        "def build_classifier_model():\n",
        "    text_input = tf.keras.layers.Input(shape=(), dtype=tf.string, name='text')\n",
        "    preprocessing_layer = hub.KerasLayer(tfhub_handle_preprocess, name='preprocessing')\n",
        "    encoder_inputs = preprocessing_layer(text_input)\n",
        "    encoder = hub.KerasLayer(tfhub_handle_encoder, trainable=True, name='BERT_encoder')\n",
        "    outputs = encoder(encoder_inputs)\n",
        "    net = outputs['pooled_output']\n",
        "    net = tf.keras.layers.Dropout(0.1)(net)\n",
        "    net = tf.keras.layers.Dense(labels_count, activation='softmax', name='classifier')(net)\n",
        "    return tf.keras.Model(text_input, net)"
      ]
    },
    {
      "cell_type": "markdown",
      "metadata": {
        "id": "Zs4yhFraBuGQ"
      },
      "source": [
        "Let's check that the model runs with the output of the preprocessing model."
      ]
    },
    {
      "cell_type": "code",
      "execution_count": null,
      "metadata": {
        "colab": {
          "base_uri": "https://localhost:8080/"
        },
        "id": "mGMF8AZcB2Zy",
        "outputId": "5b84a76b-a594-435d-c500-c862c7603d50"
      },
      "outputs": [
        {
          "output_type": "stream",
          "name": "stdout",
          "text": [
            "tf.Tensor(\n",
            "[[0.00244031 0.00387455 0.00341747 0.00153787 0.02822957 0.00459106\n",
            "  0.02523523 0.00981872 0.02847264 0.0068265  0.00650499 0.03608491\n",
            "  0.00482025 0.01059069 0.01248833 0.00597394 0.02282323 0.00555511\n",
            "  0.01095468 0.00470918 0.00647133 0.00742002 0.00164101 0.01069651\n",
            "  0.00552939 0.00190115 0.02221479 0.00480518 0.00156596 0.05108939\n",
            "  0.00464371 0.01037881 0.01124073 0.00262916 0.01639803 0.00763103\n",
            "  0.00942395 0.01557729 0.00930259 0.01749563 0.01664288 0.00842129\n",
            "  0.00881687 0.0032614  0.00726781 0.0016166  0.00572516 0.00173657\n",
            "  0.01753099 0.00384012 0.0138459  0.0170049  0.00375485 0.01716037\n",
            "  0.00715337 0.00981308 0.00290134 0.01149386 0.00259975 0.01501842\n",
            "  0.00126005 0.00281353 0.01810515 0.01689998 0.01733675 0.01215005\n",
            "  0.00040291 0.00477342 0.00272604 0.0008614  0.00280804 0.00484575\n",
            "  0.02028253 0.03410644 0.01107764 0.00716338 0.00744476 0.00912606\n",
            "  0.00406857 0.00454918 0.00293966 0.00772393 0.00761166 0.0044598\n",
            "  0.00262812 0.00368664 0.01724659 0.00317175 0.01256233 0.00632979\n",
            "  0.00836838 0.0039979  0.00552772 0.00200458 0.00830005 0.06071411\n",
            "  0.00933274 0.00132557 0.01884235 0.00181422]], shape=(1, 100), dtype=float32)\n"
          ]
        }
      ],
      "source": [
        "classifier_model = build_classifier_model()\n",
        "bert_raw_result = classifier_model(tf.constant(text_test))\n",
        "print(bert_raw_result)"
      ]
    },
    {
      "cell_type": "markdown",
      "metadata": {
        "id": "ZTUzNV2JE2G3"
      },
      "source": [
        "The output is meaningless, of course, because the model has not been trained yet.\n",
        "\n",
        "Let's take a look at the model's structure."
      ]
    },
    {
      "cell_type": "code",
      "execution_count": null,
      "metadata": {
        "colab": {
          "base_uri": "https://localhost:8080/",
          "height": 466
        },
        "id": "0EmzyHZXKIpm",
        "outputId": "4a0784f1-eb97-4a10-ec94-5aae8507d51b"
      },
      "outputs": [
        {
          "output_type": "execute_result",
          "data": {
            "image/png": "[encoded data removed]",
            "text/plain": [
              "<IPython.core.display.Image object>"
            ]
          },
          "metadata": {},
          "execution_count": 342
        }
      ],
      "source": [
        "tf.keras.utils.plot_model(classifier_model)"
      ]
    },
    {
      "cell_type": "code",
      "execution_count": null,
      "metadata": {
        "colab": {
          "base_uri": "https://localhost:8080/"
        },
        "id": "OHAkchT3Wwyj",
        "outputId": "7b0713f6-10c9-4a60-b031-50a5e8aba6e4"
      },
      "outputs": [
        {
          "output_type": "stream",
          "name": "stdout",
          "text": [
            "Model: \"model_11\"\n",
            "__________________________________________________________________________________________________\n",
            " Layer (type)                Output Shape                 Param #   Connected to                  \n",
            "==================================================================================================\n",
            " text (InputLayer)           [(None,)]                    0         []                            \n",
            "                                                                                                  \n",
            " preprocessing (KerasLayer)  {'input_mask': (None, 128)   0         ['text[0][0]']                \n",
            "                             , 'input_word_ids': (None,                                           \n",
            "                              128),                                                               \n",
            "                              'input_type_ids': (None,                                            \n",
            "                             128)}                                                                \n",
            "                                                                                                  \n",
            " BERT_encoder (KerasLayer)   {'pooled_output': (None, 2   9591041   ['preprocessing[0][0]',       \n",
            "                             56),                                    'preprocessing[0][1]',       \n",
            "                              'sequence_output': (None,              'preprocessing[0][2]']       \n",
            "                              128, 256),                                                          \n",
            "                              'default': (None, 256),                                             \n",
            "                              'encoder_outputs': [(None                                           \n",
            "                             , 128, 256),                                                         \n",
            "                              (None, 128, 256)]}                                                  \n",
            "                                                                                                  \n",
            " dropout_11 (Dropout)        (None, 256)                  0         ['BERT_encoder[0][3]']        \n",
            "                                                                                                  \n",
            " classifier (Dense)          (None, 100)                  25700     ['dropout_11[0][0]']          \n",
            "                                                                                                  \n",
            "==================================================================================================\n",
            "Total params: 9616741 (36.68 MB)\n",
            "Trainable params: 9616740 (36.68 MB)\n",
            "Non-trainable params: 1 (1.00 Byte)\n",
            "__________________________________________________________________________________________________\n"
          ]
        }
      ],
      "source": [
        "classifier_model.summary()"
      ]
    },
    {
      "cell_type": "markdown",
      "metadata": {
        "id": "WbUWoZMwc302"
      },
      "source": [
        "## Model training\n",
        "\n",
        "You now have all the pieces to train a model, including the preprocessing module, BERT encoder, data, and classifier."
      ]
    },
    {
      "cell_type": "markdown",
      "metadata": {
        "id": "WpJ3xcwDT56v"
      },
      "source": [
        "### Loss function\n",
        "\n",
        "Since this is a binary classification problem and the model outputs a probability (a single-unit layer), you'll use `losses.BinaryCrossentropy` loss function.\n"
      ]
    },
    {
      "cell_type": "code",
      "execution_count": null,
      "metadata": {
        "id": "OWPOZE-L3AgE"
      },
      "outputs": [],
      "source": [
        "loss = tf.keras.losses.SparseCategoricalCrossentropy(from_logits=False)\n",
        "metrics = tf.metrics.SparseCategoricalAccuracy()"
      ]
    },
    {
      "cell_type": "markdown",
      "metadata": {
        "id": "77psrpfzbxtp"
      },
      "source": [
        "### Optimizer\n",
        "\n",
        "For fine-tuning, let's use the same optimizer that BERT was originally trained with: the \"Adaptive Moments\" (Adam). This optimizer minimizes the prediction loss and does regularization by weight decay (not using moments), which is also known as [AdamW](https://arxiv.org/abs/1711.05101).\n",
        "\n",
        "For the learning rate (`init_lr`), you will use the same schedule as BERT pre-training: linear decay of a notional initial learning rate, prefixed with a linear warm-up phase over the first 10% of training steps (`num_warmup_steps`). In line with the BERT paper, the initial learning rate is smaller for fine-tuning (best of 5e-5, 3e-5, 2e-5)."
      ]
    },
    {
      "cell_type": "markdown",
      "metadata": {
        "id": "SqlarlpC_v0g"
      },
      "source": [
        "### Loading the BERT model and training\n",
        "\n",
        "Using the `classifier_model` you created earlier, you can compile the model with the loss, metric and optimizer."
      ]
    },
    {
      "cell_type": "code",
      "execution_count": null,
      "metadata": {
        "id": "-7GPDhR98jsD"
      },
      "outputs": [],
      "source": [
        "# Compile the model with the modified loss and metrics\n",
        "classifier_model.compile(optimizer='adam',\n",
        "                         loss=loss,\n",
        "                         metrics=metrics)"
      ]
    },
    {
      "cell_type": "markdown",
      "metadata": {
        "id": "CpBuV5j2cS_b"
      },
      "source": [
        "Note: training time will vary depending on the complexity of the BERT model you have selected."
      ]
    },
    {
      "cell_type": "code",
      "source": [
        "X_train = np.array(X_train)\n",
        "y_train = np.array(y_train)\n",
        "\n",
        "indices = np.arange(X_train.shape[0])\n",
        "np.random.shuffle(indices)\n",
        "\n",
        "X_train = X_train[indices]\n",
        "y_train = y_train[indices]"
      ],
      "metadata": {
        "id": "sOUovrYIYjP8"
      },
      "execution_count": null,
      "outputs": []
    },
    {
      "cell_type": "code",
      "source": [
        "X_train[0]"
      ],
      "metadata": {
        "colab": {
          "base_uri": "https://localhost:8080/",
          "height": 35
        },
        "id": "wPXlZoyYG7vJ",
        "outputId": "44044dcb-f12f-46ea-93a5-8d53ddec41d7"
      },
      "execution_count": null,
      "outputs": [
        {
          "output_type": "execute_result",
          "data": {
            "text/plain": [
              "\"In order to protect Winters' reputation, Coors asks Odell not to tell anyone. Before they leave the ballast tank, Coors dies in a mysterious accident.\""
            ],
            "application/vnd.google.colaboratory.intrinsic+json": {
              "type": "string"
            }
          },
          "metadata": {},
          "execution_count": 347
        }
      ]
    },
    {
      "cell_type": "code",
      "source": [
        "X_train[1]"
      ],
      "metadata": {
        "colab": {
          "base_uri": "https://localhost:8080/",
          "height": 35
        },
        "id": "4l_KkQv7KphL",
        "outputId": "e8bfe9f6-ba82-4027-8045-b9ce147be260"
      },
      "execution_count": null,
      "outputs": [
        {
          "output_type": "execute_result",
          "data": {
            "text/plain": [
              "'Aiming for her, her father instead killed Tom, who is revealed to have been his illegitimate son. Her father then killed himself while Florence watched.'"
            ],
            "application/vnd.google.colaboratory.intrinsic+json": {
              "type": "string"
            }
          },
          "metadata": {},
          "execution_count": 348
        }
      ]
    },
    {
      "cell_type": "code",
      "source": [
        "type(test_labels1_pruned)"
      ],
      "metadata": {
        "colab": {
          "base_uri": "https://localhost:8080/"
        },
        "id": "UzbbvhO7IWaT",
        "outputId": "bda7745b-484a-48d7-8b47-3099d238a2a5"
      },
      "execution_count": null,
      "outputs": [
        {
          "output_type": "execute_result",
          "data": {
            "text/plain": [
              "list"
            ]
          },
          "metadata": {},
          "execution_count": 349
        }
      ]
    },
    {
      "cell_type": "code",
      "source": [
        "val_x, val_y = remove_capital_words(test_texts1_pruned, test_labels1_pruned)\n",
        "val_x.extend(test_texts1_pruned)\n",
        "val_y.extend(test_labels1_pruned)\n",
        "val_data = (np.array(val_x), np.array(val_y))"
      ],
      "metadata": {
        "id": "u8EADPO2ILiv"
      },
      "execution_count": null,
      "outputs": []
    },
    {
      "cell_type": "code",
      "execution_count": null,
      "metadata": {
        "colab": {
          "base_uri": "https://localhost:8080/",
          "height": 653
        },
        "id": "HtfDFAnN_Neu",
        "outputId": "d8a20235-b47d-4d6a-d666-83fd94dc78a7"
      },
      "outputs": [
        {
          "output_type": "stream",
          "name": "stdout",
          "text": [
            "Training model with https://tfhub.dev/tensorflow/small_bert/bert_en_uncased_L-2_H-256_A-4/1\n",
            "Epoch 1/30\n",
            "98/98 [==============================] - 162s 2s/step - loss: 4.4042 - sparse_categorical_accuracy: 0.0608 - val_loss: 3.9320 - val_sparse_categorical_accuracy: 0.1900\n",
            "Epoch 2/30\n",
            "98/98 [==============================] - 151s 2s/step - loss: 2.8111 - sparse_categorical_accuracy: 0.3564 - val_loss: 2.6666 - val_sparse_categorical_accuracy: 0.4500\n",
            "Epoch 3/30\n",
            "98/98 [==============================] - 149s 2s/step - loss: 1.1612 - sparse_categorical_accuracy: 0.7447 - val_loss: 1.8264 - val_sparse_categorical_accuracy: 0.5900\n",
            "Epoch 4/30\n",
            "98/98 [==============================] - 158s 2s/step - loss: 0.3265 - sparse_categorical_accuracy: 0.9325 - val_loss: 1.4069 - val_sparse_categorical_accuracy: 0.6800\n",
            "Epoch 5/30\n",
            "98/98 [==============================] - 150s 2s/step - loss: 0.0955 - sparse_categorical_accuracy: 0.9878 - val_loss: 1.2004 - val_sparse_categorical_accuracy: 0.7050\n",
            "Epoch 6/30\n",
            "98/98 [==============================] - 155s 2s/step - loss: 0.0317 - sparse_categorical_accuracy: 0.9978 - val_loss: 1.2550 - val_sparse_categorical_accuracy: 0.7100\n",
            "Epoch 7/30\n",
            "98/98 [==============================] - 148s 2s/step - loss: 0.0132 - sparse_categorical_accuracy: 1.0000 - val_loss: 1.2070 - val_sparse_categorical_accuracy: 0.7100\n",
            "Epoch 8/30\n",
            " 3/98 [..............................] - ETA: 1:58 - loss: 0.0095 - sparse_categorical_accuracy: 1.0000"
          ]
        },
        {
          "output_type": "error",
          "ename": "KeyboardInterrupt",
          "evalue": "ignored",
          "traceback": [
            "\u001b[0;31m---------------------------------------------------------------------------\u001b[0m",
            "\u001b[0;31mKeyboardInterrupt\u001b[0m                         Traceback (most recent call last)",
            "\u001b[0;32m<ipython-input-351-39f56fea57c8>\u001b[0m in \u001b[0;36m<cell line: 2>\u001b[0;34m()\u001b[0m\n\u001b[1;32m      1\u001b[0m \u001b[0mprint\u001b[0m\u001b[0;34m(\u001b[0m\u001b[0;34mf'Training model with {tfhub_handle_encoder}'\u001b[0m\u001b[0;34m)\u001b[0m\u001b[0;34m\u001b[0m\u001b[0;34m\u001b[0m\u001b[0m\n\u001b[0;32m----> 2\u001b[0;31m \u001b[0mhistory\u001b[0m \u001b[0;34m=\u001b[0m \u001b[0mclassifier_model\u001b[0m\u001b[0;34m.\u001b[0m\u001b[0mfit\u001b[0m\u001b[0;34m(\u001b[0m\u001b[0mX_train\u001b[0m\u001b[0;34m,\u001b[0m \u001b[0my_train\u001b[0m\u001b[0;34m,\u001b[0m \u001b[0mvalidation_data\u001b[0m \u001b[0;34m=\u001b[0m \u001b[0mval_data\u001b[0m\u001b[0;34m,\u001b[0m \u001b[0mepochs\u001b[0m\u001b[0;34m=\u001b[0m\u001b[0;36m30\u001b[0m\u001b[0;34m)\u001b[0m\u001b[0;34m\u001b[0m\u001b[0;34m\u001b[0m\u001b[0m\n\u001b[0m",
            "\u001b[0;32m/usr/local/lib/python3.10/dist-packages/keras/src/utils/traceback_utils.py\u001b[0m in \u001b[0;36merror_handler\u001b[0;34m(*args, **kwargs)\u001b[0m\n\u001b[1;32m     63\u001b[0m         \u001b[0mfiltered_tb\u001b[0m \u001b[0;34m=\u001b[0m \u001b[0;32mNone\u001b[0m\u001b[0;34m\u001b[0m\u001b[0;34m\u001b[0m\u001b[0m\n\u001b[1;32m     64\u001b[0m         \u001b[0;32mtry\u001b[0m\u001b[0;34m:\u001b[0m\u001b[0;34m\u001b[0m\u001b[0;34m\u001b[0m\u001b[0m\n\u001b[0;32m---> 65\u001b[0;31m             \u001b[0;32mreturn\u001b[0m \u001b[0mfn\u001b[0m\u001b[0;34m(\u001b[0m\u001b[0;34m*\u001b[0m\u001b[0margs\u001b[0m\u001b[0;34m,\u001b[0m \u001b[0;34m**\u001b[0m\u001b[0mkwargs\u001b[0m\u001b[0;34m)\u001b[0m\u001b[0;34m\u001b[0m\u001b[0;34m\u001b[0m\u001b[0m\n\u001b[0m\u001b[1;32m     66\u001b[0m         \u001b[0;32mexcept\u001b[0m \u001b[0mException\u001b[0m \u001b[0;32mas\u001b[0m \u001b[0me\u001b[0m\u001b[0;34m:\u001b[0m\u001b[0;34m\u001b[0m\u001b[0;34m\u001b[0m\u001b[0m\n\u001b[1;32m     67\u001b[0m             \u001b[0mfiltered_tb\u001b[0m \u001b[0;34m=\u001b[0m \u001b[0m_process_traceback_frames\u001b[0m\u001b[0;34m(\u001b[0m\u001b[0me\u001b[0m\u001b[0;34m.\u001b[0m\u001b[0m__traceback__\u001b[0m\u001b[0;34m)\u001b[0m\u001b[0;34m\u001b[0m\u001b[0;34m\u001b[0m\u001b[0m\n",
            "\u001b[0;32m/usr/local/lib/python3.10/dist-packages/keras/src/engine/training.py\u001b[0m in \u001b[0;36mfit\u001b[0;34m(self, x, y, batch_size, epochs, verbose, callbacks, validation_split, validation_data, shuffle, class_weight, sample_weight, initial_epoch, steps_per_epoch, validation_steps, validation_batch_size, validation_freq, max_queue_size, workers, use_multiprocessing)\u001b[0m\n\u001b[1;32m   1740\u001b[0m                         ):\n\u001b[1;32m   1741\u001b[0m                             \u001b[0mcallbacks\u001b[0m\u001b[0;34m.\u001b[0m\u001b[0mon_train_batch_begin\u001b[0m\u001b[0;34m(\u001b[0m\u001b[0mstep\u001b[0m\u001b[0;34m)\u001b[0m\u001b[0;34m\u001b[0m\u001b[0;34m\u001b[0m\u001b[0m\n\u001b[0;32m-> 1742\u001b[0;31m                             \u001b[0mtmp_logs\u001b[0m \u001b[0;34m=\u001b[0m \u001b[0mself\u001b[0m\u001b[0;34m.\u001b[0m\u001b[0mtrain_function\u001b[0m\u001b[0;34m(\u001b[0m\u001b[0miterator\u001b[0m\u001b[0;34m)\u001b[0m\u001b[0;34m\u001b[0m\u001b[0;34m\u001b[0m\u001b[0m\n\u001b[0m\u001b[1;32m   1743\u001b[0m                             \u001b[0;32mif\u001b[0m \u001b[0mdata_handler\u001b[0m\u001b[0;34m.\u001b[0m\u001b[0mshould_sync\u001b[0m\u001b[0;34m:\u001b[0m\u001b[0;34m\u001b[0m\u001b[0;34m\u001b[0m\u001b[0m\n\u001b[1;32m   1744\u001b[0m                                 \u001b[0mcontext\u001b[0m\u001b[0;34m.\u001b[0m\u001b[0masync_wait\u001b[0m\u001b[0;34m(\u001b[0m\u001b[0;34m)\u001b[0m\u001b[0;34m\u001b[0m\u001b[0;34m\u001b[0m\u001b[0m\n",
            "\u001b[0;32m/usr/local/lib/python3.10/dist-packages/tensorflow/python/util/traceback_utils.py\u001b[0m in \u001b[0;36merror_handler\u001b[0;34m(*args, **kwargs)\u001b[0m\n\u001b[1;32m    148\u001b[0m     \u001b[0mfiltered_tb\u001b[0m \u001b[0;34m=\u001b[0m \u001b[0;32mNone\u001b[0m\u001b[0;34m\u001b[0m\u001b[0;34m\u001b[0m\u001b[0m\n\u001b[1;32m    149\u001b[0m     \u001b[0;32mtry\u001b[0m\u001b[0;34m:\u001b[0m\u001b[0;34m\u001b[0m\u001b[0;34m\u001b[0m\u001b[0m\n\u001b[0;32m--> 150\u001b[0;31m       \u001b[0;32mreturn\u001b[0m \u001b[0mfn\u001b[0m\u001b[0;34m(\u001b[0m\u001b[0;34m*\u001b[0m\u001b[0margs\u001b[0m\u001b[0;34m,\u001b[0m \u001b[0;34m**\u001b[0m\u001b[0mkwargs\u001b[0m\u001b[0;34m)\u001b[0m\u001b[0;34m\u001b[0m\u001b[0;34m\u001b[0m\u001b[0m\n\u001b[0m\u001b[1;32m    151\u001b[0m     \u001b[0;32mexcept\u001b[0m \u001b[0mException\u001b[0m \u001b[0;32mas\u001b[0m \u001b[0me\u001b[0m\u001b[0;34m:\u001b[0m\u001b[0;34m\u001b[0m\u001b[0;34m\u001b[0m\u001b[0m\n\u001b[1;32m    152\u001b[0m       \u001b[0mfiltered_tb\u001b[0m \u001b[0;34m=\u001b[0m \u001b[0m_process_traceback_frames\u001b[0m\u001b[0;34m(\u001b[0m\u001b[0me\u001b[0m\u001b[0;34m.\u001b[0m\u001b[0m__traceback__\u001b[0m\u001b[0;34m)\u001b[0m\u001b[0;34m\u001b[0m\u001b[0;34m\u001b[0m\u001b[0m\n",
            "\u001b[0;32m/usr/local/lib/python3.10/dist-packages/tensorflow/python/eager/polymorphic_function/polymorphic_function.py\u001b[0m in \u001b[0;36m__call__\u001b[0;34m(self, *args, **kwds)\u001b[0m\n\u001b[1;32m    823\u001b[0m \u001b[0;34m\u001b[0m\u001b[0m\n\u001b[1;32m    824\u001b[0m       \u001b[0;32mwith\u001b[0m \u001b[0mOptionalXlaContext\u001b[0m\u001b[0;34m(\u001b[0m\u001b[0mself\u001b[0m\u001b[0;34m.\u001b[0m\u001b[0m_jit_compile\u001b[0m\u001b[0;34m)\u001b[0m\u001b[0;34m:\u001b[0m\u001b[0;34m\u001b[0m\u001b[0;34m\u001b[0m\u001b[0m\n\u001b[0;32m--> 825\u001b[0;31m         \u001b[0mresult\u001b[0m \u001b[0;34m=\u001b[0m \u001b[0mself\u001b[0m\u001b[0;34m.\u001b[0m\u001b[0m_call\u001b[0m\u001b[0;34m(\u001b[0m\u001b[0;34m*\u001b[0m\u001b[0margs\u001b[0m\u001b[0;34m,\u001b[0m \u001b[0;34m**\u001b[0m\u001b[0mkwds\u001b[0m\u001b[0;34m)\u001b[0m\u001b[0;34m\u001b[0m\u001b[0;34m\u001b[0m\u001b[0m\n\u001b[0m\u001b[1;32m    826\u001b[0m \u001b[0;34m\u001b[0m\u001b[0m\n\u001b[1;32m    827\u001b[0m       \u001b[0mnew_tracing_count\u001b[0m \u001b[0;34m=\u001b[0m \u001b[0mself\u001b[0m\u001b[0;34m.\u001b[0m\u001b[0mexperimental_get_tracing_count\u001b[0m\u001b[0;34m(\u001b[0m\u001b[0;34m)\u001b[0m\u001b[0;34m\u001b[0m\u001b[0;34m\u001b[0m\u001b[0m\n",
            "\u001b[0;32m/usr/local/lib/python3.10/dist-packages/tensorflow/python/eager/polymorphic_function/polymorphic_function.py\u001b[0m in \u001b[0;36m_call\u001b[0;34m(self, *args, **kwds)\u001b[0m\n\u001b[1;32m    855\u001b[0m       \u001b[0;31m# In this case we have created variables on the first call, so we run the\u001b[0m\u001b[0;34m\u001b[0m\u001b[0;34m\u001b[0m\u001b[0m\n\u001b[1;32m    856\u001b[0m       \u001b[0;31m# defunned version which is guaranteed to never create variables.\u001b[0m\u001b[0;34m\u001b[0m\u001b[0;34m\u001b[0m\u001b[0m\n\u001b[0;32m--> 857\u001b[0;31m       \u001b[0;32mreturn\u001b[0m \u001b[0mself\u001b[0m\u001b[0;34m.\u001b[0m\u001b[0m_no_variable_creation_fn\u001b[0m\u001b[0;34m(\u001b[0m\u001b[0;34m*\u001b[0m\u001b[0margs\u001b[0m\u001b[0;34m,\u001b[0m \u001b[0;34m**\u001b[0m\u001b[0mkwds\u001b[0m\u001b[0;34m)\u001b[0m  \u001b[0;31m# pylint: disable=not-callable\u001b[0m\u001b[0;34m\u001b[0m\u001b[0;34m\u001b[0m\u001b[0m\n\u001b[0m\u001b[1;32m    858\u001b[0m     \u001b[0;32melif\u001b[0m \u001b[0mself\u001b[0m\u001b[0;34m.\u001b[0m\u001b[0m_variable_creation_fn\u001b[0m \u001b[0;32mis\u001b[0m \u001b[0;32mnot\u001b[0m \u001b[0;32mNone\u001b[0m\u001b[0;34m:\u001b[0m\u001b[0;34m\u001b[0m\u001b[0;34m\u001b[0m\u001b[0m\n\u001b[1;32m    859\u001b[0m       \u001b[0;31m# Release the lock early so that multiple threads can perform the call\u001b[0m\u001b[0;34m\u001b[0m\u001b[0;34m\u001b[0m\u001b[0m\n",
            "\u001b[0;32m/usr/local/lib/python3.10/dist-packages/tensorflow/python/eager/polymorphic_function/tracing_compiler.py\u001b[0m in \u001b[0;36m__call__\u001b[0;34m(self, *args, **kwargs)\u001b[0m\n\u001b[1;32m    146\u001b[0m       (concrete_function,\n\u001b[1;32m    147\u001b[0m        filtered_flat_args) = self._maybe_define_function(args, kwargs)\n\u001b[0;32m--> 148\u001b[0;31m     return concrete_function._call_flat(\n\u001b[0m\u001b[1;32m    149\u001b[0m         filtered_flat_args, captured_inputs=concrete_function.captured_inputs)  # pylint: disable=protected-access\n\u001b[1;32m    150\u001b[0m \u001b[0;34m\u001b[0m\u001b[0m\n",
            "\u001b[0;32m/usr/local/lib/python3.10/dist-packages/tensorflow/python/eager/polymorphic_function/monomorphic_function.py\u001b[0m in \u001b[0;36m_call_flat\u001b[0;34m(self, args, captured_inputs)\u001b[0m\n\u001b[1;32m   1347\u001b[0m         and executing_eagerly):\n\u001b[1;32m   1348\u001b[0m       \u001b[0;31m# No tape is watching; skip to running the function.\u001b[0m\u001b[0;34m\u001b[0m\u001b[0;34m\u001b[0m\u001b[0m\n\u001b[0;32m-> 1349\u001b[0;31m       \u001b[0;32mreturn\u001b[0m \u001b[0mself\u001b[0m\u001b[0;34m.\u001b[0m\u001b[0m_build_call_outputs\u001b[0m\u001b[0;34m(\u001b[0m\u001b[0mself\u001b[0m\u001b[0;34m.\u001b[0m\u001b[0m_inference_function\u001b[0m\u001b[0;34m(\u001b[0m\u001b[0;34m*\u001b[0m\u001b[0margs\u001b[0m\u001b[0;34m)\u001b[0m\u001b[0;34m)\u001b[0m\u001b[0;34m\u001b[0m\u001b[0;34m\u001b[0m\u001b[0m\n\u001b[0m\u001b[1;32m   1350\u001b[0m     forward_backward = self._select_forward_and_backward_functions(\n\u001b[1;32m   1351\u001b[0m         \u001b[0margs\u001b[0m\u001b[0;34m,\u001b[0m\u001b[0;34m\u001b[0m\u001b[0;34m\u001b[0m\u001b[0m\n",
            "\u001b[0;32m/usr/local/lib/python3.10/dist-packages/tensorflow/python/eager/polymorphic_function/atomic_function.py\u001b[0m in \u001b[0;36m__call__\u001b[0;34m(self, *args)\u001b[0m\n\u001b[1;32m    194\u001b[0m         \u001b[0;32mwith\u001b[0m \u001b[0mrecord\u001b[0m\u001b[0;34m.\u001b[0m\u001b[0mstop_recording\u001b[0m\u001b[0;34m(\u001b[0m\u001b[0;34m)\u001b[0m\u001b[0;34m:\u001b[0m\u001b[0;34m\u001b[0m\u001b[0;34m\u001b[0m\u001b[0m\n\u001b[1;32m    195\u001b[0m           \u001b[0;32mif\u001b[0m \u001b[0mself\u001b[0m\u001b[0;34m.\u001b[0m\u001b[0m_bound_context\u001b[0m\u001b[0;34m.\u001b[0m\u001b[0mexecuting_eagerly\u001b[0m\u001b[0;34m(\u001b[0m\u001b[0;34m)\u001b[0m\u001b[0;34m:\u001b[0m\u001b[0;34m\u001b[0m\u001b[0;34m\u001b[0m\u001b[0m\n\u001b[0;32m--> 196\u001b[0;31m             outputs = self._bound_context.call_function(\n\u001b[0m\u001b[1;32m    197\u001b[0m                 \u001b[0mself\u001b[0m\u001b[0;34m.\u001b[0m\u001b[0mname\u001b[0m\u001b[0;34m,\u001b[0m\u001b[0;34m\u001b[0m\u001b[0;34m\u001b[0m\u001b[0m\n\u001b[1;32m    198\u001b[0m                 \u001b[0mlist\u001b[0m\u001b[0;34m(\u001b[0m\u001b[0margs\u001b[0m\u001b[0;34m)\u001b[0m\u001b[0;34m,\u001b[0m\u001b[0;34m\u001b[0m\u001b[0;34m\u001b[0m\u001b[0m\n",
            "\u001b[0;32m/usr/local/lib/python3.10/dist-packages/tensorflow/python/eager/context.py\u001b[0m in \u001b[0;36mcall_function\u001b[0;34m(self, name, tensor_inputs, num_outputs)\u001b[0m\n\u001b[1;32m   1455\u001b[0m     \u001b[0mcancellation_context\u001b[0m \u001b[0;34m=\u001b[0m \u001b[0mcancellation\u001b[0m\u001b[0;34m.\u001b[0m\u001b[0mcontext\u001b[0m\u001b[0;34m(\u001b[0m\u001b[0;34m)\u001b[0m\u001b[0;34m\u001b[0m\u001b[0;34m\u001b[0m\u001b[0m\n\u001b[1;32m   1456\u001b[0m     \u001b[0;32mif\u001b[0m \u001b[0mcancellation_context\u001b[0m \u001b[0;32mis\u001b[0m \u001b[0;32mNone\u001b[0m\u001b[0;34m:\u001b[0m\u001b[0;34m\u001b[0m\u001b[0;34m\u001b[0m\u001b[0m\n\u001b[0;32m-> 1457\u001b[0;31m       outputs = execute.execute(\n\u001b[0m\u001b[1;32m   1458\u001b[0m           \u001b[0mname\u001b[0m\u001b[0;34m.\u001b[0m\u001b[0mdecode\u001b[0m\u001b[0;34m(\u001b[0m\u001b[0;34m\"utf-8\"\u001b[0m\u001b[0;34m)\u001b[0m\u001b[0;34m,\u001b[0m\u001b[0;34m\u001b[0m\u001b[0;34m\u001b[0m\u001b[0m\n\u001b[1;32m   1459\u001b[0m           \u001b[0mnum_outputs\u001b[0m\u001b[0;34m=\u001b[0m\u001b[0mnum_outputs\u001b[0m\u001b[0;34m,\u001b[0m\u001b[0;34m\u001b[0m\u001b[0;34m\u001b[0m\u001b[0m\n",
            "\u001b[0;32m/usr/local/lib/python3.10/dist-packages/tensorflow/python/eager/execute.py\u001b[0m in \u001b[0;36mquick_execute\u001b[0;34m(op_name, num_outputs, inputs, attrs, ctx, name)\u001b[0m\n\u001b[1;32m     51\u001b[0m   \u001b[0;32mtry\u001b[0m\u001b[0;34m:\u001b[0m\u001b[0;34m\u001b[0m\u001b[0;34m\u001b[0m\u001b[0m\n\u001b[1;32m     52\u001b[0m     \u001b[0mctx\u001b[0m\u001b[0;34m.\u001b[0m\u001b[0mensure_initialized\u001b[0m\u001b[0;34m(\u001b[0m\u001b[0;34m)\u001b[0m\u001b[0;34m\u001b[0m\u001b[0;34m\u001b[0m\u001b[0m\n\u001b[0;32m---> 53\u001b[0;31m     tensors = pywrap_tfe.TFE_Py_Execute(ctx._handle, device_name, op_name,\n\u001b[0m\u001b[1;32m     54\u001b[0m                                         inputs, attrs, num_outputs)\n\u001b[1;32m     55\u001b[0m   \u001b[0;32mexcept\u001b[0m \u001b[0mcore\u001b[0m\u001b[0;34m.\u001b[0m\u001b[0m_NotOkStatusException\u001b[0m \u001b[0;32mas\u001b[0m \u001b[0me\u001b[0m\u001b[0;34m:\u001b[0m\u001b[0;34m\u001b[0m\u001b[0;34m\u001b[0m\u001b[0m\n",
            "\u001b[0;31mKeyboardInterrupt\u001b[0m: "
          ]
        }
      ],
      "source": [
        "print(f'Training model with {tfhub_handle_encoder}')\n",
        "history = classifier_model.fit(X_train, y_train, validation_data = val_data, epochs=30)"
      ]
    },
    {
      "cell_type": "markdown",
      "metadata": {
        "id": "uBthMlTSV8kn"
      },
      "source": [
        "### Evaluate the model\n",
        "\n",
        "Let's see how the model performs. Two values will be returned. Loss (a number which represents the error, lower values are better), and accuracy."
      ]
    },
    {
      "cell_type": "code",
      "execution_count": null,
      "metadata": {
        "id": "slqB-urBV9sP"
      },
      "outputs": [],
      "source": [
        "loss, accuracy = classifier_model.evaluate(X_train, y_train)\n",
        "\n",
        "print(f'Loss: {loss}')\n",
        "print(f'Accuracy: {accuracy}')"
      ]
    },
    {
      "cell_type": "code",
      "source": [
        "broken_tx, broken_ty = break_to_two_sentences(test_texts1_pruned, test_labels1_pruned)\n",
        "tx, ty = remove_capital_words(broken_tx, broken_ty)\n",
        "tx.extend(broken_tx)\n",
        "ty.extend(broken_ty)"
      ],
      "metadata": {
        "colab": {
          "base_uri": "https://localhost:8080/"
        },
        "id": "7Yo-rK5Kmavk",
        "outputId": "eac209f1-cbed-4874-a834-d3d3f8002afc"
      },
      "execution_count": null,
      "outputs": [
        {
          "output_type": "stream",
          "name": "stderr",
          "text": [
            "100%|██████████| 100/100 [00:04<00:00, 22.52it/s]"
          ]
        },
        {
          "output_type": "stream",
          "name": "stdout",
          "text": [
            "44.8197424892704\n"
          ]
        },
        {
          "output_type": "stream",
          "name": "stderr",
          "text": [
            "\n"
          ]
        }
      ]
    },
    {
      "cell_type": "code",
      "source": [
        "loss, accuracy = classifier_model.evaluate(tx, ty)\n",
        "print(f'Accuracy: {accuracy}')"
      ],
      "metadata": {
        "colab": {
          "base_uri": "https://localhost:8080/"
        },
        "id": "hk4oCpGWUPXm",
        "outputId": "5b70f255-4b02-43c6-b045-507368ddc0b7"
      },
      "execution_count": null,
      "outputs": [
        {
          "output_type": "stream",
          "name": "stdout",
          "text": [
            "15/15 [==============================] - 6s 418ms/step - loss: 2.1060 - sparse_categorical_accuracy: 0.5858\n",
            "Accuracy: 0.5858368873596191\n"
          ]
        }
      ]
    },
    {
      "cell_type": "code",
      "source": [
        "loss, accuracy = classifier_model.evaluate(broken_tx, broken_ty)\n",
        "print(f'Accuracy: {accuracy}')"
      ],
      "metadata": {
        "colab": {
          "base_uri": "https://localhost:8080/"
        },
        "id": "Esvm7YCAvs3Q",
        "outputId": "54f18e0d-1542-456b-f4a4-3fd9f4eded4c"
      },
      "execution_count": null,
      "outputs": [
        {
          "output_type": "stream",
          "name": "stdout",
          "text": [
            "8/8 [==============================] - 3s 328ms/step - loss: 1.0900 - sparse_categorical_accuracy: 0.7597\n",
            "Accuracy: 0.7596566677093506\n"
          ]
        }
      ]
    },
    {
      "cell_type": "code",
      "source": [
        "tx, ty = remove_capital_words(broken_tx, broken_ty)"
      ],
      "metadata": {
        "id": "gfCtkQMPvzk6"
      },
      "execution_count": null,
      "outputs": []
    },
    {
      "cell_type": "code",
      "source": [
        "loss, accuracy = classifier_model.evaluate(tx, ty)\n",
        "print(f'Accuracy: {accuracy}')"
      ],
      "metadata": {
        "colab": {
          "base_uri": "https://localhost:8080/"
        },
        "id": "fIEc1uLbv4Bi",
        "outputId": "a4569148-2127-47ac-d105-e53810309b93"
      },
      "execution_count": null,
      "outputs": [
        {
          "output_type": "stream",
          "name": "stdout",
          "text": [
            "8/8 [==============================] - 6s 757ms/step - loss: 3.1220 - sparse_categorical_accuracy: 0.4120\n",
            "Accuracy: 0.41201716661453247\n"
          ]
        }
      ]
    },
    {
      "cell_type": "code",
      "source": [
        "classifier_model.save('/content/drive/MyDrive/NLP-Project/Models/Bert-l2-256-n100')"
      ],
      "metadata": {
        "id": "mSIFaVFuin4F"
      },
      "execution_count": null,
      "outputs": []
    },
    {
      "cell_type": "code",
      "source": [
        "from tensorflow.keras.models import load_model\n",
        "model = load_model('/content/drive/MyDrive/NLP-Project/Models/Bert-l2-256-n100')"
      ],
      "metadata": {
        "id": "a9NkJStUkDm_"
      },
      "execution_count": null,
      "outputs": []
    },
    {
      "cell_type": "code",
      "source": [
        "loss, accuracy = model.evaluate(tx, ty)\n",
        "print(f'Accuracy: {accuracy}')"
      ],
      "metadata": {
        "colab": {
          "base_uri": "https://localhost:8080/"
        },
        "id": "6GlpNcESyo__",
        "outputId": "4d1352fc-d6fe-4ef8-8355-1ba21da0af19"
      },
      "execution_count": null,
      "outputs": [
        {
          "output_type": "stream",
          "name": "stdout",
          "text": [
            "8/8 [==============================] - 5s 519ms/step - loss: 3.1220 - sparse_categorical_accuracy: 0.4120\n",
            "Accuracy: 0.41201716661453247\n"
          ]
        }
      ]
    },
    {
      "cell_type": "code",
      "source": [
        "out = model.predict([\"\"\"A king got kill\"\"\"])\n",
        "out = out.argmax()\n",
        "reverse_encoding_map[out]"
      ],
      "metadata": {
        "id": "TkbiNhslaCr9"
      },
      "execution_count": null,
      "outputs": []
    },
    {
      "cell_type": "code",
      "source": [
        "out = classifier_model.predict([\"\"\"the kingdom is raised by tribal people and one day learns about his royal heritage, his father's bravery in battle and a mission to overthrow the incumbent ruler.\"\"\"])\n",
        "out = out.argmax()\n",
        "reverse_encoding_map[out]\n",
        "# for i in range(5):\n",
        "#   print(i, X_train[i])"
      ],
      "metadata": {
        "colab": {
          "base_uri": "https://localhost:8080/",
          "height": 53
        },
        "id": "uYxo4WND0Zyu",
        "outputId": "7877ddec-1eac-417c-bd86-b8675212674f"
      },
      "execution_count": null,
      "outputs": [
        {
          "output_type": "stream",
          "name": "stdout",
          "text": [
            "1/1 [==============================] - 0s 52ms/step\n"
          ]
        },
        {
          "output_type": "execute_result",
          "data": {
            "text/plain": [
              "'Shrek 2 (2004)'"
            ],
            "application/vnd.google.colaboratory.intrinsic+json": {
              "type": "string"
            }
          },
          "metadata": {},
          "execution_count": 215
        }
      ]
    },
    {
      "cell_type": "code",
      "source": [
        "encoding_map['Johnny English Reborn (2011)']"
      ],
      "metadata": {
        "colab": {
          "base_uri": "https://localhost:8080/"
        },
        "id": "Jp5jrpP_3Gsf",
        "outputId": "b2b039af-40d8-4d81-c6ed-47ff0187b01a"
      },
      "execution_count": null,
      "outputs": [
        {
          "output_type": "execute_result",
          "data": {
            "text/plain": [
              "1741"
            ]
          },
          "metadata": {},
          "execution_count": 62
        }
      ]
    },
    {
      "cell_type": "code",
      "source": [
        "tx, ty = randomly_remove_and_add_sentences(test_texts1_pruned, test_labels1_pruned, 10, False)"
      ],
      "metadata": {
        "colab": {
          "base_uri": "https://localhost:8080/"
        },
        "id": "I1eZ8X-KdSkT",
        "outputId": "6c2d42ff-05ea-4924-a862-da7dee0968a2"
      },
      "execution_count": null,
      "outputs": [
        {
          "output_type": "stream",
          "name": "stderr",
          "text": [
            "100%|██████████| 256/256 [00:08<00:00, 30.56it/s]\n"
          ]
        }
      ]
    },
    {
      "cell_type": "code",
      "source": [
        "loss, accuracy = classifier_model.evaluate(tx, ty)\n",
        "\n",
        "print(f'Loss: {loss}')\n",
        "print(f'Accuracy: {accuracy}')"
      ],
      "metadata": {
        "colab": {
          "base_uri": "https://localhost:8080/"
        },
        "id": "F7QOoM_TddNr",
        "outputId": "c8e4ac29-8469-421c-c949-f1cf105d14a5"
      },
      "execution_count": null,
      "outputs": [
        {
          "output_type": "stream",
          "name": "stdout",
          "text": [
            "88/88 [==============================] - 39s 440ms/step - loss: 1.4289 - sparse_categorical_accuracy: 0.7340\n",
            "Loss: 1.4288878440856934\n",
            "Accuracy: 0.7340198755264282\n"
          ]
        }
      ]
    },
    {
      "cell_type": "code",
      "source": [
        "tx[340]"
      ],
      "metadata": {
        "id": "mPLNih7Gdo3U",
        "colab": {
          "base_uri": "https://localhost:8080/",
          "height": 109
        },
        "outputId": "39783832-3168-4947-b16f-1871180fbe8b"
      },
      "execution_count": null,
      "outputs": [
        {
          "output_type": "execute_result",
          "data": {
            "text/plain": [
              "\"Following his parents' death in Africa, John Clayton has been be raised by an ape, was known by the name Tarzan, but eventually left Africa and for his parents' home in England, along with the woman he fell in love with and married, Jane Porter. He is asked by Belgian King Leopold to go to Africa to see what he has done there to help the country. But an American, George Washington Williams, wants him to accept so he can accompany him. He says that Leopold might be committing all sorts of atrocities to achieve his goal, like slavery. Clayton agrees and his wife insists that she accompany him because she misses Africa. When they arrive, a man named Rom, who works for Leopold, attacks their village and captures Tarzan and Jane. With Washington's help he escapes and sets out to rescue Jane by going across the jungle.\""
            ],
            "application/vnd.google.colaboratory.intrinsic+json": {
              "type": "string"
            }
          },
          "metadata": {},
          "execution_count": 49
        }
      ]
    },
    {
      "cell_type": "code",
      "source": [
        "test_texts1_pruned[34]"
      ],
      "metadata": {
        "id": "fEAgkxdYfdAT",
        "colab": {
          "base_uri": "https://localhost:8080/",
          "height": 127
        },
        "outputId": "ecd2ba34-6c70-47fb-bc45-bc53631ac3b8"
      },
      "execution_count": null,
      "outputs": [
        {
          "output_type": "execute_result",
          "data": {
            "text/plain": [
              "\"Following his parents' death in Africa, John Clayton has been be raised by an ape, was known by the name Tarzan, but eventually left Africa and for his parents' home in England, along with the woman he fell in love with and married, Jane Porter. He is asked by Belgian King Leopold to go to Africa to see what he has done there to help the country. Initially, he refuses. But an American, George Washington Williams, wants him to accept so he can accompany him. He says that Leopold might be committing all sorts of atrocities to achieve his goal, like slavery. Clayton agrees and his wife insists that she accompany him because she misses Africa. When they arrive, a man named Rom, who works for Leopold, attacks their village and captures Tarzan and Jane. With Washington's help he escapes and sets out to rescue Jane by going across the jungle. Washington joins him despite being told that he might not make it.\""
            ],
            "application/vnd.google.colaboratory.intrinsic+json": {
              "type": "string"
            }
          },
          "metadata": {},
          "execution_count": 50
        }
      ]
    },
    {
      "cell_type": "markdown",
      "metadata": {
        "id": "uttWpgmSfzq9"
      },
      "source": [
        "### Plot the accuracy and loss over time\n",
        "\n",
        "Based on the `History` object returned by `model.fit()`. You can plot the training and validation loss for comparison, as well as the training and validation accuracy:"
      ]
    },
    {
      "cell_type": "code",
      "execution_count": null,
      "metadata": {
        "id": "fiythcODf0xo",
        "colab": {
          "base_uri": "https://localhost:8080/",
          "height": 578
        },
        "outputId": "d5ae1a47-177d-4eef-9baa-7359f7f1f9b7"
      },
      "outputs": [
        {
          "output_type": "stream",
          "name": "stdout",
          "text": [
            "dict_keys(['loss', 'sparse_categorical_accuracy'])\n"
          ]
        },
        {
          "output_type": "execute_result",
          "data": {
            "text/plain": [
              "<matplotlib.legend.Legend at 0x7bbf7b61c070>"
            ]
          },
          "metadata": {},
          "execution_count": 51
        },
        {
          "output_type": "display_data",
          "data": {
            "text/plain": [
              "<Figure size 1000x600 with 2 Axes>"
            ],
            "image/png": "[encoded data removed]"
          },
          "metadata": {}
        }
      ],
      "source": [
        "history_dict = history.history\n",
        "print(history_dict.keys())\n",
        "\n",
        "acc = history_dict['sparse_categorical_accuracy']\n",
        "loss = history_dict['loss']\n",
        "\n",
        "epochs = range(1, len(acc) + 1)\n",
        "fig = plt.figure(figsize=(10, 6))\n",
        "fig.tight_layout()\n",
        "\n",
        "plt.subplot(2, 1, 1)\n",
        "plt.plot(epochs, loss, 'r', label='Training loss')\n",
        "plt.ylabel('Loss')\n",
        "plt.legend()\n",
        "\n",
        "plt.subplot(2, 1, 2)\n",
        "plt.plot(epochs, acc, 'r', label='Training acc')\n",
        "plt.title('Training and validation accuracy')\n",
        "plt.xlabel('Epochs')\n",
        "plt.ylabel('Accuracy')\n",
        "plt.legend(loc='lower right')"
      ]
    },
    {
      "cell_type": "markdown",
      "metadata": {
        "id": "Rtn7jewb6dg4"
      },
      "source": [
        "## Export for inference\n",
        "\n",
        "Now you just save your fine-tuned model for later use."
      ]
    },
    {
      "cell_type": "code",
      "execution_count": null,
      "metadata": {
        "id": "ShcvqJAgVera"
      },
      "outputs": [],
      "source": [
        "dataset_name = 'imdb'\n",
        "saved_model_path = './{}_bert'.format(dataset_name.replace('/', '_'))\n",
        "\n",
        "classifier_model.save(saved_model_path, include_optimizer=False)"
      ]
    },
    {
      "cell_type": "markdown",
      "metadata": {
        "id": "PbI25bS1vD7s"
      },
      "source": [
        "Let's reload the model, so you can try it side by side with the model that is still in memory."
      ]
    },
    {
      "cell_type": "code",
      "execution_count": null,
      "metadata": {
        "id": "gUEWVskZjEF0"
      },
      "outputs": [],
      "source": [
        "reloaded_model = tf.saved_model.load(saved_model_path)"
      ]
    },
    {
      "cell_type": "markdown",
      "metadata": {
        "id": "oyTappHTvNCz"
      },
      "source": [
        "Here you can test your model on any sentence you want, just add to the examples variable below."
      ]
    },
    {
      "cell_type": "code",
      "execution_count": null,
      "metadata": {
        "id": "VBWzH6exlCPS"
      },
      "outputs": [],
      "source": [
        "def print_my_examples(inputs, results):\n",
        "  result_for_printing = \\\n",
        "    [f'input: {inputs[i]:<30} : score: {results[i][0]:.6f}'\n",
        "                         for i in range(len(inputs))]\n",
        "  print(*result_for_printing, sep='\\n')\n",
        "  print()\n",
        "\n",
        "\n",
        "examples = [\n",
        "    'this is such an amazing movie!',  # this is the same sentence tried earlier\n",
        "    'The movie was great!',\n",
        "    'The movie was meh.',\n",
        "    'The movie was okish.',\n",
        "    'The movie was terrible...'\n",
        "]\n",
        "\n",
        "reloaded_results = tf.sigmoid(reloaded_model(tf.constant(examples)))\n",
        "original_results = tf.sigmoid(classifier_model(tf.constant(examples)))\n",
        "\n",
        "print('Results from the saved model:')\n",
        "print_my_examples(examples, reloaded_results)\n",
        "print('Results from the model in memory:')\n",
        "print_my_examples(examples, original_results)"
      ]
    },
    {
      "cell_type": "markdown",
      "metadata": {
        "id": "3cOmih754Y_M"
      },
      "source": [
        "If you want to use your model on [TF Serving](https://www.tensorflow.org/tfx/guide/serving), remember that it will call your SavedModel through one of its named signatures. In Python, you can test them as follows:"
      ]
    },
    {
      "cell_type": "code",
      "execution_count": null,
      "metadata": {
        "id": "0FdVD3973S-O"
      },
      "outputs": [],
      "source": [
        "serving_results = reloaded_model \\\n",
        "            .signatures['serving_default'](tf.constant(examples))\n",
        "\n",
        "serving_results = tf.sigmoid(serving_results['classifier'])\n",
        "\n",
        "print_my_examples(examples, serving_results)"
      ]
    },
    {
      "cell_type": "markdown",
      "metadata": {
        "id": "B4gN1KwReLPN"
      },
      "source": [
        "## Next steps\n",
        "\n",
        "As a next step, you can try [Solve GLUE tasks using BERT on a TPU tutorial](https://www.tensorflow.org/text/tutorials/bert_glue), which runs on a TPU and shows you how to work with multiple inputs."
      ]
    },
    {
      "cell_type": "code",
      "execution_count": null,
      "metadata": {
        "colab": {
          "base_uri": "https://localhost:8080/"
        },
        "id": "H784FqADichb",
        "outputId": "20df9bb5-9910-455c-9bea-c06da4d02e7f"
      },
      "outputs": [
        {
          "name": "stdout",
          "output_type": "stream",
          "text": [
            "Requirement already satisfied: spacy in /usr/local/lib/python3.10/dist-packages (3.6.1)\n",
            "Requirement already satisfied: spacy-legacy<3.1.0,>=3.0.11 in /usr/local/lib/python3.10/dist-packages (from spacy) (3.0.12)\n",
            "Requirement already satisfied: spacy-loggers<2.0.0,>=1.0.0 in /usr/local/lib/python3.10/dist-packages (from spacy) (1.0.5)\n",
            "Requirement already satisfied: murmurhash<1.1.0,>=0.28.0 in /usr/local/lib/python3.10/dist-packages (from spacy) (1.0.10)\n",
            "Requirement already satisfied: cymem<2.1.0,>=2.0.2 in /usr/local/lib/python3.10/dist-packages (from spacy) (2.0.8)\n",
            "Requirement already satisfied: preshed<3.1.0,>=3.0.2 in /usr/local/lib/python3.10/dist-packages (from spacy) (3.0.9)\n",
            "Requirement already satisfied: thinc<8.2.0,>=8.1.8 in /usr/local/lib/python3.10/dist-packages (from spacy) (8.1.12)\n",
            "Requirement already satisfied: wasabi<1.2.0,>=0.9.1 in /usr/local/lib/python3.10/dist-packages (from spacy) (1.1.2)\n",
            "Requirement already satisfied: srsly<3.0.0,>=2.4.3 in /usr/local/lib/python3.10/dist-packages (from spacy) (2.4.8)\n",
            "Requirement already satisfied: catalogue<2.1.0,>=2.0.6 in /usr/local/lib/python3.10/dist-packages (from spacy) (2.0.10)\n",
            "Requirement already satisfied: typer<0.10.0,>=0.3.0 in /usr/local/lib/python3.10/dist-packages (from spacy) (0.9.0)\n",
            "Requirement already satisfied: pathy>=0.10.0 in /usr/local/lib/python3.10/dist-packages (from spacy) (0.10.3)\n",
            "Requirement already satisfied: smart-open<7.0.0,>=5.2.1 in /usr/local/lib/python3.10/dist-packages (from spacy) (6.4.0)\n",
            "Requirement already satisfied: tqdm<5.0.0,>=4.38.0 in /usr/local/lib/python3.10/dist-packages (from spacy) (4.66.1)\n",
            "Requirement already satisfied: numpy>=1.15.0 in /usr/local/lib/python3.10/dist-packages (from spacy) (1.23.5)\n",
            "Requirement already satisfied: requests<3.0.0,>=2.13.0 in /usr/local/lib/python3.10/dist-packages (from spacy) (2.31.0)\n",
            "Requirement already satisfied: pydantic!=1.8,!=1.8.1,<3.0.0,>=1.7.4 in /usr/local/lib/python3.10/dist-packages (from spacy) (1.10.13)\n",
            "Requirement already satisfied: jinja2 in /usr/local/lib/python3.10/dist-packages (from spacy) (3.1.2)\n",
            "Requirement already satisfied: setuptools in /usr/local/lib/python3.10/dist-packages (from spacy) (67.7.2)\n",
            "Requirement already satisfied: packaging>=20.0 in /usr/local/lib/python3.10/dist-packages (from spacy) (23.2)\n",
            "Requirement already satisfied: langcodes<4.0.0,>=3.2.0 in /usr/local/lib/python3.10/dist-packages (from spacy) (3.3.0)\n",
            "Requirement already satisfied: typing-extensions>=4.2.0 in /usr/local/lib/python3.10/dist-packages (from pydantic!=1.8,!=1.8.1,<3.0.0,>=1.7.4->spacy) (4.5.0)\n",
            "Requirement already satisfied: charset-normalizer<4,>=2 in /usr/local/lib/python3.10/dist-packages (from requests<3.0.0,>=2.13.0->spacy) (3.3.2)\n",
            "Requirement already satisfied: idna<4,>=2.5 in /usr/local/lib/python3.10/dist-packages (from requests<3.0.0,>=2.13.0->spacy) (3.6)\n",
            "Requirement already satisfied: urllib3<3,>=1.21.1 in /usr/local/lib/python3.10/dist-packages (from requests<3.0.0,>=2.13.0->spacy) (2.0.7)\n",
            "Requirement already satisfied: certifi>=2017.4.17 in /usr/local/lib/python3.10/dist-packages (from requests<3.0.0,>=2.13.0->spacy) (2023.11.17)\n",
            "Requirement already satisfied: blis<0.8.0,>=0.7.8 in /usr/local/lib/python3.10/dist-packages (from thinc<8.2.0,>=8.1.8->spacy) (0.7.11)\n",
            "Requirement already satisfied: confection<1.0.0,>=0.0.1 in /usr/local/lib/python3.10/dist-packages (from thinc<8.2.0,>=8.1.8->spacy) (0.1.4)\n",
            "Requirement already satisfied: click<9.0.0,>=7.1.1 in /usr/local/lib/python3.10/dist-packages (from typer<0.10.0,>=0.3.0->spacy) (8.1.7)\n",
            "Requirement already satisfied: MarkupSafe>=2.0 in /usr/local/lib/python3.10/dist-packages (from jinja2->spacy) (2.1.3)\n",
            "2023-12-04 18:01:21.447506: W tensorflow/compiler/tf2tensorrt/utils/py_utils.cc:38] TF-TRT Warning: Could not find TensorRT\n",
            "Collecting en-core-web-sm==3.6.0\n",
            "  Downloading https://github.com/explosion/spacy-models/releases/download/en_core_web_sm-3.6.0/en_core_web_sm-3.6.0-py3-none-any.whl (12.8 MB)\n",
            "\u001b[2K     \u001b[90m━━━━━━━━━━━━━━━━━━━━━━━━━━━━━━━━━━━━━━━━\u001b[0m \u001b[32m12.8/12.8 MB\u001b[0m \u001b[31m59.5 MB/s\u001b[0m eta \u001b[36m0:00:00\u001b[0m\n",
            "\u001b[?25hRequirement already satisfied: spacy<3.7.0,>=3.6.0 in /usr/local/lib/python3.10/dist-packages (from en-core-web-sm==3.6.0) (3.6.1)\n",
            "Requirement already satisfied: spacy-legacy<3.1.0,>=3.0.11 in /usr/local/lib/python3.10/dist-packages (from spacy<3.7.0,>=3.6.0->en-core-web-sm==3.6.0) (3.0.12)\n",
            "Requirement already satisfied: spacy-loggers<2.0.0,>=1.0.0 in /usr/local/lib/python3.10/dist-packages (from spacy<3.7.0,>=3.6.0->en-core-web-sm==3.6.0) (1.0.5)\n",
            "Requirement already satisfied: murmurhash<1.1.0,>=0.28.0 in /usr/local/lib/python3.10/dist-packages (from spacy<3.7.0,>=3.6.0->en-core-web-sm==3.6.0) (1.0.10)\n",
            "Requirement already satisfied: cymem<2.1.0,>=2.0.2 in /usr/local/lib/python3.10/dist-packages (from spacy<3.7.0,>=3.6.0->en-core-web-sm==3.6.0) (2.0.8)\n",
            "Requirement already satisfied: preshed<3.1.0,>=3.0.2 in /usr/local/lib/python3.10/dist-packages (from spacy<3.7.0,>=3.6.0->en-core-web-sm==3.6.0) (3.0.9)\n",
            "Requirement already satisfied: thinc<8.2.0,>=8.1.8 in /usr/local/lib/python3.10/dist-packages (from spacy<3.7.0,>=3.6.0->en-core-web-sm==3.6.0) (8.1.12)\n",
            "Requirement already satisfied: wasabi<1.2.0,>=0.9.1 in /usr/local/lib/python3.10/dist-packages (from spacy<3.7.0,>=3.6.0->en-core-web-sm==3.6.0) (1.1.2)\n",
            "Requirement already satisfied: srsly<3.0.0,>=2.4.3 in /usr/local/lib/python3.10/dist-packages (from spacy<3.7.0,>=3.6.0->en-core-web-sm==3.6.0) (2.4.8)\n",
            "Requirement already satisfied: catalogue<2.1.0,>=2.0.6 in /usr/local/lib/python3.10/dist-packages (from spacy<3.7.0,>=3.6.0->en-core-web-sm==3.6.0) (2.0.10)\n",
            "Requirement already satisfied: typer<0.10.0,>=0.3.0 in /usr/local/lib/python3.10/dist-packages (from spacy<3.7.0,>=3.6.0->en-core-web-sm==3.6.0) (0.9.0)\n",
            "Requirement already satisfied: pathy>=0.10.0 in /usr/local/lib/python3.10/dist-packages (from spacy<3.7.0,>=3.6.0->en-core-web-sm==3.6.0) (0.10.3)\n",
            "Requirement already satisfied: smart-open<7.0.0,>=5.2.1 in /usr/local/lib/python3.10/dist-packages (from spacy<3.7.0,>=3.6.0->en-core-web-sm==3.6.0) (6.4.0)\n",
            "Requirement already satisfied: tqdm<5.0.0,>=4.38.0 in /usr/local/lib/python3.10/dist-packages (from spacy<3.7.0,>=3.6.0->en-core-web-sm==3.6.0) (4.66.1)\n",
            "Requirement already satisfied: numpy>=1.15.0 in /usr/local/lib/python3.10/dist-packages (from spacy<3.7.0,>=3.6.0->en-core-web-sm==3.6.0) (1.23.5)\n",
            "Requirement already satisfied: requests<3.0.0,>=2.13.0 in /usr/local/lib/python3.10/dist-packages (from spacy<3.7.0,>=3.6.0->en-core-web-sm==3.6.0) (2.31.0)\n",
            "Requirement already satisfied: pydantic!=1.8,!=1.8.1,<3.0.0,>=1.7.4 in /usr/local/lib/python3.10/dist-packages (from spacy<3.7.0,>=3.6.0->en-core-web-sm==3.6.0) (1.10.13)\n",
            "Requirement already satisfied: jinja2 in /usr/local/lib/python3.10/dist-packages (from spacy<3.7.0,>=3.6.0->en-core-web-sm==3.6.0) (3.1.2)\n",
            "Requirement already satisfied: setuptools in /usr/local/lib/python3.10/dist-packages (from spacy<3.7.0,>=3.6.0->en-core-web-sm==3.6.0) (67.7.2)\n",
            "Requirement already satisfied: packaging>=20.0 in /usr/local/lib/python3.10/dist-packages (from spacy<3.7.0,>=3.6.0->en-core-web-sm==3.6.0) (23.2)\n",
            "Requirement already satisfied: langcodes<4.0.0,>=3.2.0 in /usr/local/lib/python3.10/dist-packages (from spacy<3.7.0,>=3.6.0->en-core-web-sm==3.6.0) (3.3.0)\n",
            "Requirement already satisfied: typing-extensions>=4.2.0 in /usr/local/lib/python3.10/dist-packages (from pydantic!=1.8,!=1.8.1,<3.0.0,>=1.7.4->spacy<3.7.0,>=3.6.0->en-core-web-sm==3.6.0) (4.5.0)\n",
            "Requirement already satisfied: charset-normalizer<4,>=2 in /usr/local/lib/python3.10/dist-packages (from requests<3.0.0,>=2.13.0->spacy<3.7.0,>=3.6.0->en-core-web-sm==3.6.0) (3.3.2)\n",
            "Requirement already satisfied: idna<4,>=2.5 in /usr/local/lib/python3.10/dist-packages (from requests<3.0.0,>=2.13.0->spacy<3.7.0,>=3.6.0->en-core-web-sm==3.6.0) (3.6)\n",
            "Requirement already satisfied: urllib3<3,>=1.21.1 in /usr/local/lib/python3.10/dist-packages (from requests<3.0.0,>=2.13.0->spacy<3.7.0,>=3.6.0->en-core-web-sm==3.6.0) (2.0.7)\n",
            "Requirement already satisfied: certifi>=2017.4.17 in /usr/local/lib/python3.10/dist-packages (from requests<3.0.0,>=2.13.0->spacy<3.7.0,>=3.6.0->en-core-web-sm==3.6.0) (2023.11.17)\n",
            "Requirement already satisfied: blis<0.8.0,>=0.7.8 in /usr/local/lib/python3.10/dist-packages (from thinc<8.2.0,>=8.1.8->spacy<3.7.0,>=3.6.0->en-core-web-sm==3.6.0) (0.7.11)\n",
            "Requirement already satisfied: confection<1.0.0,>=0.0.1 in /usr/local/lib/python3.10/dist-packages (from thinc<8.2.0,>=8.1.8->spacy<3.7.0,>=3.6.0->en-core-web-sm==3.6.0) (0.1.4)\n",
            "Requirement already satisfied: click<9.0.0,>=7.1.1 in /usr/local/lib/python3.10/dist-packages (from typer<0.10.0,>=0.3.0->spacy<3.7.0,>=3.6.0->en-core-web-sm==3.6.0) (8.1.7)\n",
            "Requirement already satisfied: MarkupSafe>=2.0 in /usr/local/lib/python3.10/dist-packages (from jinja2->spacy<3.7.0,>=3.6.0->en-core-web-sm==3.6.0) (2.1.3)\n",
            "\u001b[38;5;2m✔ Download and installation successful\u001b[0m\n",
            "You can now load the package via spacy.load('en_core_web_sm')\n"
          ]
        }
      ],
      "source": [
        "!pip install spacy\n",
        "!python -m spacy download en_core_web_sm"
      ]
    },
    {
      "cell_type": "code",
      "execution_count": null,
      "metadata": {
        "colab": {
          "base_uri": "https://localhost:8080/"
        },
        "id": "pk2uLnbRcZ33",
        "outputId": "61645dbc-2be8-43b8-fc75-828535386ed6"
      },
      "outputs": [
        {
          "data": {
            "text/plain": [
              "['0 1', 'a 1', '0 b', 'a b']"
            ]
          },
          "execution_count": 152,
          "metadata": {},
          "output_type": "execute_result"
        }
      ],
      "source": [
        "create_all_paragraphs([[\"0\", \"a\"], [\"1\", \"b\"]])"
      ]
    },
    {
      "cell_type": "code",
      "execution_count": null,
      "metadata": {
        "colab": {
          "base_uri": "https://localhost:8080/"
        },
        "id": "v0itDKmONSuh",
        "outputId": "59db5571-7ec5-4cdd-8185-5428962fe698"
      },
      "outputs": [
        {
          "name": "stderr",
          "output_type": "stream",
          "text": [
            "100%|██████████| 1/1 [00:00<00:00,  3.14it/s]\n"
          ]
        }
      ],
      "source": [
        "a, b = add_paraphrases(X_train[4:5], y_train[4:5], 5)"
      ]
    },
    {
      "cell_type": "code",
      "execution_count": null,
      "metadata": {
        "colab": {
          "base_uri": "https://localhost:8080/"
        },
        "id": "34M7OGkPl2UD",
        "outputId": "123b1356-1206-4ef1-e787-6093797f039f"
      },
      "outputs": [
        {
          "data": {
            "text/plain": [
              "0       1709\n",
              "1        169\n",
              "2        280\n",
              "3       1014\n",
              "4        972\n",
              "        ... \n",
              "1916    1369\n",
              "1917     971\n",
              "1918    1142\n",
              "1919     526\n",
              "1920    1101\n",
              "Name: labels, Length: 1921, dtype: int64"
            ]
          },
          "execution_count": 229,
          "metadata": {},
          "output_type": "execute_result"
        }
      ],
      "source": [
        "y_train"
      ]
    },
    {
      "cell_type": "code",
      "execution_count": null,
      "metadata": {
        "colab": {
          "base_uri": "https://localhost:8080/",
          "height": 139
        },
        "id": "F5jMtvbMTYAx",
        "outputId": "e66b20ab-d7ba-4ba0-caee-9cb2c3643de4"
      },
      "outputs": [
        {
          "data": {
            "application/vnd.google.colaboratory.intrinsic+json": {
              "type": "string"
            },
            "text/plain": [
              "'The opening sequence takes the form of a computer simulation run by the Devil to analyze souls and determine individual weaknesses to exploit and corrupt. He has no friends and his co-workers are always avoiding him. He has a crush on his colleague, Alison Gardner (Frances O\\'Connor), but lacks the courage to ask her out. After Elliot is again ditched by his co-workers at a bar while trying to talk to Alison, he says to himself that he would give anything for Alison to be with him. The Devil takes him to McDonald\\'s and places the order. Each wish has Elliot living them out with Alison and his co-workers in surrogate roles. However, he doesn\\'t know that the Devil will always spoil his wishes by adding something he doesn\\'t want. Elliot wishes to be rich and powerful, with Alison as his wife. Secondly, Elliot wishes to be emotionally sensitive so he will understand the needs and desires of women. The Devil makes him so sensitive that he spends most of his time crying over how beautiful the world is, and constantly asks Alison, his girlfriend of \"three magical weeks,\" whether he has hurt her or if she needs anything. She then leaves Elliot for a man who is strong, rude and completely different from the romantic and emotionally sensitive Elliot. Elliot then wishes to be a superstar athlete who would be a woman magnet. He then wishes to be intelligent, witty and well-endowed. The Devil grants this by making him a famous writer whom Alison falls in love with at a cocktail party. When they arrive at Elliot\\'s home to make love it is revealed that Elliot is gay and living with a flamboyant male partner. The Devil makes him Abraham Lincoln at Ford\\'s Theatre on the night of his assassination which he barely avoids. The Devil then appears on the computer screen, pointing out that he only has one wish left. This is because on their first meeting he asked for a Big Mac and Coke, although she had stated that it was a test wish and granted it before Elliot signed the contract. Elliot loses his patience and storms out of his office.\\r\\n Elliot visits a church looking for God\\'s help, where he briefly confesses to a priest who seems sympathetic. However, after being asked whether he thinks asking the Devil for a Big Mac and Coke counts as a wish, the priest, believing he is drunk, has Elliot arrested. The sergeant books him, and the Devil, dressed as a police officer, throws him in a cell, telling him that she does like him, and it would not hurt to have her as a friend. Elliot\\'s cellmate (Gabriel Casseus) tells him that he cannot possibly sell his soul as it belongs to God, and although the Devil may try to confuse him, in the end he will realise who he truly is, and what his purpose is. Elliot asks the Devil to cancel their contract. When the Devil refuses, Elliot states he will not use his final wish. The Devil teleports them to Hell, where she transforms first into a black horned monster, then into a giant. The Devil sighs and Elliot falls into the depths of Hell. The Devil tells him that because a provision in the contract\\'s fine print, unread by Elliot, states that a selfless wish voids the contract, Elliot keeps his soul. Elliot admits that despite her manipulation of him he has come to like the Devil and regards her as a friend, something she does not object to. Elliot finally asks Alison out, only to learn that she is already dating another man. He continues with his life, but with a better understanding of who he is.\\r\\n Later Elliot is confronted by Bob, one of his co-workers, who starts ridiculing Elliot at the encouragement of his co-workers. Elliot loses his temper and grabs a terrified Bob by the shirt, but lets go, simply saying, \"Nice talking to you.\" A threatening look sends his other co-workers scurrying away in fear.'"
            ]
          },
          "execution_count": 264,
          "metadata": {},
          "output_type": "execute_result"
        }
      ],
      "source": [
        "a[0]"
      ]
    },
    {
      "cell_type": "code",
      "execution_count": null,
      "metadata": {
        "colab": {
          "base_uri": "https://localhost:8080/",
          "height": 139
        },
        "id": "JKAJu5hFXXoI",
        "outputId": "424dd5d6-36e1-4535-ef4c-87056b03bfca"
      },
      "outputs": [
        {
          "data": {
            "application/vnd.google.colaboratory.intrinsic+json": {
              "type": "string"
            },
            "text/plain": [
              "'The program finally settles on Elliot Richards (Brendan Fraser), a geeky, over-zealous man working a dead-end technical support job in a San Francisco computer company. He has no friends and his co-workers are always avoiding him. After Elliot is again ditched by his co-workers at a bar while trying to talk to Alison, he says to himself that he would give anything for Alison to be with him. As a test, he wishes for a Big Mac and Coke. The Devil takes him to McDonald\\'s and places the order. Elliot has to pay for it, because, \"there ain\\'t no such thing as a free lunch.\" After taking Elliot to her office, based at a nightclub in Oakland, the Devil convinces Elliot to sign her contract, and delivers further wishes. Each wish has Elliot living them out with Alison and his co-workers in surrogate roles. Elliot wishes to be rich and powerful, with Alison as his wife. The Devil makes him a Colombian drug lord whose wife despises him and cheats on him with Raoul, his co-worker, who is secretly planning to get rid of Elliot and take his position and property. Soon after there is a firefight between his and Raoul\\'s people where Elliot \"dies\". When he returns to the real world, the Devil points out that he never wished for Alison to love him.\\r\\n Secondly, Elliot wishes to be emotionally sensitive so he will understand the needs and desires of women. The Devil makes him so sensitive that he spends most of his time crying over how beautiful the world is, and constantly asks Alison, his girlfriend of \"three magical weeks,\" whether he has hurt her or if she needs anything. The Devil makes him a freakishly talented cliché-spewing NBA star, but also gives him a small penis and a low IQ, which causes Alison, a sports reporter, to lose interest in him shortly after they meet.\\r\\n He then wishes to be intelligent, witty and well-endowed. The Devil grants this by making him a famous writer whom Alison falls in love with at a cocktail party. When they arrive at Elliot\\'s home to make love it is revealed that Elliot is gay and living with a flamboyant male partner. Lastly, Elliot wishes to be President of the United States to try to improve the world and get Alison to take him seriously. The Devil makes him Abraham Lincoln at Ford\\'s Theatre on the night of his assassination which he barely avoids. After each wish is renounced, Elliot meets with the Devil and she blames him for not being specific enough. Eventually he returns to work, thinking about what he should do with the last two wishes. The Devil then appears on the computer screen, pointing out that he only has one wish left. This is because on their first meeting he asked for a Big Mac and Coke, although she had stated that it was a test wish and granted it before Elliot signed the contract. Elliot visits a church looking for God\\'s help, where he briefly confesses to a priest who seems sympathetic. However, after being asked whether he thinks asking the Devil for a Big Mac and Coke counts as a wish, the priest, believing he is drunk, has Elliot arrested. The sergeant books him, and the Devil, dressed as a police officer, throws him in a cell, telling him that she does like him, and it would not hurt to have her as a friend. Elliot\\'s cellmate (Gabriel Casseus) tells him that he cannot possibly sell his soul as it belongs to God, and although the Devil may try to confuse him, in the end he will realise who he truly is, and what his purpose is. Elliot questions the man as to his identity, but the response is simply \"a really good friend\".\\r\\n When the Devil refuses, Elliot states he will not use his final wish. The Devil teleports them to Hell, where she transforms first into a black horned monster, then into a giant. When the Devil pushes him to make a final wish, Elliot wishes that Alison could have a happy life - with or without him. The Devil sighs and Elliot falls into the depths of Hell. She also advises that Heaven and Hell can be found on Earth; it is up to humans to choose. Elliot finally asks Alison out, only to learn that she is already dating another man. He continues with his life, but with a better understanding of who he is.\\r\\n Later Elliot is confronted by Bob, one of his co-workers, who starts ridiculing Elliot at the encouragement of his co-workers. Elliot loses his temper and grabs a terrified Bob by the shirt, but lets go, simply saying, \"Nice talking to you.\" A threatening look sends his other co-workers scurrying away in fear. At home, he meets a new neighbor, Nicole Delarusso (also played by Frances O\\'Connor), whose looks resemble Alison\\'s but whose personality, interests and fashion sense are much closer to his. and they begin a relationship. While the two walk along a boulevard, the Devil and Elliot\\'s cellmate, both dressed in white, are seen playing chess, looking at Elliot and his new girlfriend, with the Devil taking the opportunity to fix the game but getting caught by the guy, who only laughs about that and let her finish her cheating moves. The scene ends with the Devil\\'s computer program listing foibles of Nicole\\'s and Elliot\\'s, which they both tolerate.'"
            ]
          },
          "execution_count": 265,
          "metadata": {},
          "output_type": "execute_result"
        }
      ],
      "source": [
        "a[1]"
      ]
    },
    {
      "cell_type": "code",
      "execution_count": null,
      "metadata": {
        "colab": {
          "base_uri": "https://localhost:8080/",
          "height": 139
        },
        "id": "CVjiZxKiXXiX",
        "outputId": "702a2ea7-3d82-466e-e7b5-a4a5646aba48"
      },
      "outputs": [
        {
          "data": {
            "application/vnd.google.colaboratory.intrinsic+json": {
              "type": "string"
            },
            "text/plain": [
              "\"The opening sequence takes the form of a computer simulation run by the Devil to analyze souls and determine individual weaknesses to exploit and corrupt. The program finally settles on Elliot Richards (Brendan Fraser), a geeky, over-zealous man working a dead-end technical support job in a San Francisco computer company. After Elliot is again ditched by his co-workers at a bar while trying to talk to Alison, he says to himself that he would give anything for Alison to be with him. The Devil, in the form of a beautiful woman (Elizabeth Hurley), overhears him and offers to give Elliot seven wishes in return for his soul.\\r\\n After taking Elliot to her office, based at a nightclub in Oakland, the Devil convinces Elliot to sign her contract, and delivers further wishes. The Devil makes him a Colombian drug lord whose wife despises him and cheats on him with Raoul, his co-worker, who is secretly planning to get rid of Elliot and take his position and property. Alison says she has had enough of it and wants to be with a man who is strong and shallow. She then leaves Elliot for a man who is strong, rude and completely different from the romantic and emotionally sensitive Elliot. Elliot then wishes to be a superstar athlete who would be a woman magnet. The Devil makes him a freakishly talented cliché-spewing NBA star, but also gives him a small penis and a low IQ, which causes Alison, a sports reporter, to lose interest in him shortly after they meet.\\r\\n The Devil grants this by making him a famous writer whom Alison falls in love with at a cocktail party. After each wish is renounced, Elliot meets with the Devil and she blames him for not being specific enough. The sergeant books him, and the Devil, dressed as a police officer, throws him in a cell, telling him that she does like him, and it would not hurt to have her as a friend. When the Devil refuses, Elliot states he will not use his final wish. When the Devil pushes him to make a final wish, Elliot wishes that Alison could have a happy life - with or without him. Later Elliot is confronted by Bob, one of his co-workers, who starts ridiculing Elliot at the encouragement of his co-workers. A threatening look sends his other co-workers scurrying away in fear. and they begin a relationship. The scene ends with the Devil's computer program listing foibles of Nicole's and Elliot's, which they both tolerate.\""
            ]
          },
          "execution_count": 266,
          "metadata": {},
          "output_type": "execute_result"
        }
      ],
      "source": [
        "a[2]"
      ]
    },
    {
      "cell_type": "code",
      "execution_count": null,
      "metadata": {
        "colab": {
          "base_uri": "https://localhost:8080/",
          "height": 175
        },
        "id": "Zn8NLd4fegqK",
        "outputId": "9019f45d-d1e7-4455-c9ad-da37b7e1f0d7"
      },
      "outputs": [
        {
          "ename": "IndexError",
          "evalue": "ignored",
          "output_type": "error",
          "traceback": [
            "\u001b[0;31m---------------------------------------------------------------------------\u001b[0m",
            "\u001b[0;31mIndexError\u001b[0m                                Traceback (most recent call last)",
            "\u001b[0;32m<ipython-input-257-f75b6be7d8e3>\u001b[0m in \u001b[0;36m<cell line: 1>\u001b[0;34m()\u001b[0m\n\u001b[0;32m----> 1\u001b[0;31m \u001b[0ma\u001b[0m\u001b[0;34m[\u001b[0m\u001b[0;36m3\u001b[0m\u001b[0;34m]\u001b[0m\u001b[0;34m\u001b[0m\u001b[0;34m\u001b[0m\u001b[0m\n\u001b[0m",
            "\u001b[0;31mIndexError\u001b[0m: list index out of range"
          ]
        }
      ],
      "source": [
        "a[3]"
      ]
    },
    {
      "cell_type": "code",
      "execution_count": null,
      "metadata": {
        "colab": {
          "base_uri": "https://localhost:8080/",
          "height": 139
        },
        "id": "K3jrVP7kirZf",
        "outputId": "617e95a9-f15d-4e1d-fa11-d167f79d3bb7"
      },
      "outputs": [
        {
          "data": {
            "application/vnd.google.colaboratory.intrinsic+json": {
              "type": "string"
            },
            "text/plain": [
              "'firefighter frank sullivan quaid dies in a warehouse fire in october 1969 leaving behind his wife julia elizabeth mitchell and six-year-old son john thirty years later in 1999 john caviezel now a nypd detective is dumped by his girlfriend samantha for being emotionally shut off John\\'s childhood friend Gordo (Noah Emmerich) finds a Heathkit single-sideband ham radio that once belonged to Frank, but fails to get it working. the night before the anniversary of his father\\'s death john is surprised to find the radio broadcasting during an occurrence of the aurora borealis and has a brief conversation with another man about the 1969 world series which john is able to recount in specific detail eventually he realizes that the other man is frank and tries to warn him of his impending death the following day while trying to rescue a girl frank listens to his son\\'s warning and manages to escape from the warehouse That evening, the two reconnect and learn a great deal about each other\\'s lives.\\r\\n    his mother julia no longer lives at her current address samantha doesn\\'t recognize him and he learns that frank died of lung cancer in 1989 His boss, Sgt. Satch DeLeon (Andre Braugher), assigns him to investigate the \"Nightingale\", a serial killer who murdered three nurses in the 1960s. However, John discovers that the Nightingale is now connected to ten murders, including that of his mother two weeks after Frank\\'s now-avoided death. feeling guilty that their actions somehow led the nightingale to commit more murders john persuades his father to help prevent these crimes from happening frank manages to save the first victim But when he tries to rescue the second, the Nightingale subdues him, steals his driver\\'s license, and plants it on the victim to frame Frank for the murder.\\r\\n    when frank shares his experience with his son john realizes frank\\'s wallet has the fingerprints of the nightingale John instructs his father to wrap his wallet in plastic and hide it somewhere in the house where John can find it 30 years later. john identifies the nightingale using the preserved fingerprints from the wallet as jack shepard shawn doyle a former detective In the original timeline, Shepard died from a medical error the same night Frank died. But since, in the new timeline, Julia didn\\'t leave the hospital early after learning of Frank\\'s death, she was at the hospital and prevented the error that would have killed Shepard. meanwhile frank is approached by then-detective satch deleon who tries to arrest him on suspicion of murder later in an attempt to prove his innocence frank is able to predict various aspects of the 1969 world series to satch including the infamous game 5 shoe polish incident In the resulting struggle, the radio is knocked over and sustains damage, shutting it off. While awaiting questioning, Frank activates the precinct\\'s fire sprinkler system, escapes, and breaks into Shepard\\'s apartment, where he finds jewelry taken from the victims. shepard catches frank in the act and pursues him ending with a fight underwater where frank appears to have killed shepard Frank fixes the radio, but while talking both he and John are attacked by the 1969 and 1999 versions of Shepard. Using a shotgun, Frank manages to blow off Shepard\\'s right hand in 1969, causing Shepherd\\'s hand to disappear in 1999 just as he\\'s about to kill John as the changes in the past affect the present. The timeline rapidly fixes itself in 1999 and an elderly Frank, having quit smoking to avoid his death in 1989, kills Shepard with the same shotgun, and embraces his son. The film concludes with a baseball game including John, Samantha (now his wife), John\\'s young son, Frank, Julia, Satch and Gordo, who\\'s now wealthy on account of having invested in Yahoo! on the recommendation of john'"
            ]
          },
          "execution_count": 183,
          "metadata": {},
          "output_type": "execute_result"
        }
      ],
      "source": [
        "a[4]"
      ]
    },
    {
      "cell_type": "code",
      "execution_count": null,
      "metadata": {
        "colab": {
          "base_uri": "https://localhost:8080/",
          "height": 139
        },
        "id": "qH_nrDZHitpG",
        "outputId": "04e0eaff-861d-4528-fb3b-0994b3844949"
      },
      "outputs": [
        {
          "data": {
            "application/vnd.google.colaboratory.intrinsic+json": {
              "type": "string"
            },
            "text/plain": [
              "'firefighter frank sullivan quaid dies in a warehouse fire in october 1969 leaving behind his wife julia elizabeth mitchell and six-year-old son john thirty years later in 1999 john caviezel now a nypd detective is dumped by his girlfriend samantha for being emotionally shut off John\\'s childhood friend Gordo (Noah Emmerich) finds a Heathkit single-sideband ham radio that once belonged to Frank, but fails to get it working. the night before the anniversary of his father\\'s death john is surprised to find the radio broadcasting during an occurrence of the aurora borealis and has a brief conversation with another man about the 1969 world series which john is able to recount in specific detail eventually he realizes that the other man is frank and tries to warn him of his impending death the following day while trying to rescue a girl frank listens to his son\\'s warning and manages to escape from the warehouse That evening, the two reconnect and learn a great deal about each other\\'s lives.\\r\\n    his mother julia no longer lives at her current address samantha doesn\\'t recognize him and he learns that frank died of lung cancer in 1989 His boss, Sgt. Satch DeLeon (Andre Braugher), assigns him to investigate the \"Nightingale\", a serial killer who murdered three nurses in the 1960s. However, John discovers that the Nightingale is now connected to ten murders, including that of his mother two weeks after Frank\\'s now-avoided death. feeling guilty that their actions somehow led the nightingale to commit more murders john persuades his father to help prevent these crimes from happening frank manages to save the first victim But when he tries to rescue the second, the Nightingale subdues him, steals his driver\\'s license, and plants it on the victim to frame Frank for the murder.\\r\\n    when frank shares his experience with his son john realizes that frank\\'s wallet has the nightingale fingerprints John instructs his father to wrap his wallet in plastic and hide it somewhere in the house where John can find it 30 years later. john identifies the nightingale using the preserved fingerprints from the wallet as jack shepard shawn doyle a former detective In the original timeline, Shepard died from a medical error the same night Frank died. But since, in the new timeline, Julia didn\\'t leave the hospital early after learning of Frank\\'s death, she was at the hospital and prevented the error that would have killed Shepard. meanwhile frank is approached by then-detective satch deleon who tries to arrest him on suspicion of murder later in an attempt to prove his innocence frank is able to predict various aspects of the 1969 world series to satch including the infamous game 5 shoe polish incident In the resulting struggle, the radio is knocked over and sustains damage, shutting it off. While awaiting questioning, Frank activates the precinct\\'s fire sprinkler system, escapes, and breaks into Shepard\\'s apartment, where he finds jewelry taken from the victims. shepard catches frank in the act and pursues him ending with a fight underwater where frank appears to have killed shepard Frank fixes the radio, but while talking both he and John are attacked by the 1969 and 1999 versions of Shepard. Using a shotgun, Frank manages to blow off Shepard\\'s right hand in 1969, causing Shepherd\\'s hand to disappear in 1999 just as he\\'s about to kill John as the changes in the past affect the present. The timeline rapidly fixes itself in 1999 and an elderly Frank, having quit smoking to avoid his death in 1989, kills Shepard with the same shotgun, and embraces his son. on the recommendation of john'"
            ]
          },
          "execution_count": 184,
          "metadata": {},
          "output_type": "execute_result"
        }
      ],
      "source": [
        "a[5]"
      ]
    },
    {
      "cell_type": "code",
      "execution_count": null,
      "metadata": {
        "colab": {
          "base_uri": "https://localhost:8080/",
          "height": 139
        },
        "id": "odjGiqQEivVk",
        "outputId": "cc807566-dbfe-4b3a-98ca-f6b55bd2c0c2"
      },
      "outputs": [
        {
          "data": {
            "application/vnd.google.colaboratory.intrinsic+json": {
              "type": "string"
            },
            "text/plain": [
              "'firefighter frank sullivan quaid dies in a warehouse fire in october 1969 leaving behind his wife julia elizabeth mitchell and six-year-old son john thirty years later in 1999 john caviezel now a nypd detective is dumped by his girlfriend samantha for being emotionally shut off John\\'s childhood friend Gordo (Noah Emmerich) finds a Heathkit single-sideband ham radio that once belonged to Frank, but fails to get it working. the night before the anniversary of his father\\'s death john is surprised to find the radio broadcasting during an occurrence of the aurora borealis and has a brief conversation with another man about the 1969 world series which john is able to recount in specific detail eventually he realizes that the other man is frank and tries to warn him of his impending death the following day while trying to rescue a girl frank listens to his son\\'s warning and manages to escape from the warehouse That evening, the two reconnect and learn a great deal about each other\\'s lives.\\r\\n    his mother julia no longer lives at her current address samantha doesn\\'t recognize him and he learns that frank died of lung cancer in 1989 His boss, Sgt. Satch DeLeon (Andre Braugher), assigns him to investigate the \"Nightingale\", a serial killer who murdered three nurses in the 1960s. However, John discovers that the Nightingale is now connected to ten murders, including that of his mother two weeks after Frank\\'s now-avoided death. feeling guilty that their actions somehow led the nightingale to commit more murders john persuades his father to help prevent these crimes from happening frank manages to save the first victim But when he tries to rescue the second, the Nightingale subdues him, steals his driver\\'s license, and plants it on the victim to frame Frank for the murder.\\r\\n    when frank shares his experience with his son john realizes that frank\\'s wallet has the nightingale fingerprints John instructs his father to wrap his wallet in plastic and hide it somewhere in the house where John can find it 30 years later. john identifies the nightingale using the preserved fingerprints from the wallet as jack shepard shawn doyle a former detective In the original timeline, Shepard died from a medical error the same night Frank died. But since, in the new timeline, Julia didn\\'t leave the hospital early after learning of Frank\\'s death, she was at the hospital and prevented the error that would have killed Shepard. meanwhile frank is approached by then-detective satch deleon who tries to arrest him on suspicion of murder later in an attempt to prove his innocence frank is able to predict various aspects of the 1969 world series to satch including the infamous game 5 shoe polish incident In the resulting struggle, the radio is knocked over and sustains damage, shutting it off. While awaiting questioning, Frank activates the precinct\\'s fire sprinkler system, escapes, and breaks into Shepard\\'s apartment, where he finds jewelry taken from the victims. shepard catches frank in the act and pursues him ending with a fight underwater where frank appears to have killed shepard Frank fixes the radio, but while talking both he and John are attacked by the 1969 and 1999 versions of Shepard. The timeline rapidly fixes itself in 1999 and an elderly Frank, having quit smoking to avoid his death in 1989, kills Shepard with the same shotgun, and embraces his son. The film concludes with a baseball game including John, Samantha (now his wife), John\\'s young son, Frank, Julia, Satch and Gordo, who\\'s now wealthy on account of having invested in Yahoo! on the recommendation of john'"
            ]
          },
          "execution_count": 185,
          "metadata": {},
          "output_type": "execute_result"
        }
      ],
      "source": [
        "a[6]"
      ]
    },
    {
      "cell_type": "code",
      "execution_count": null,
      "metadata": {
        "colab": {
          "base_uri": "https://localhost:8080/",
          "height": 139
        },
        "id": "9Hn0XmseixX-",
        "outputId": "3ef8dbc2-b0e0-44a9-8817-cd3ce1efba27"
      },
      "outputs": [
        {
          "data": {
            "application/vnd.google.colaboratory.intrinsic+json": {
              "type": "string"
            },
            "text/plain": [
              "\"firefighter frank sullivan quaid dies in a warehouse fire in october 1969 leaving behind his wife julia elizabeth mitchell and six-year-old son john thirty years later in 1999 john caviezel now a nypd detective is dumped by his girlfriend samantha for being emotionally shut off John's childhood friend Gordo (Noah Emmerich) finds a Heathkit single-sideband ham radio that once belonged to Frank, but fails to get it working. the night before the anniversary of his father's death john is surprised to find the radio broadcasting during an occurrence of the aurora borealis and has a brief conversation with another man about the 1969 world series which john is able to recount in specific detail eventually he realizes that the other man is frank and tries to warn him of his impending death the following day while trying to rescue a girl frank listens to his son's warning and manages to escape from the warehouse That evening, the two reconnect and learn a great deal about each other's lives.\\r\\n    However, John discovers that the Nightingale is now connected to ten murders, including that of his mother two weeks after Frank's now-avoided death. when frank shares his experience with his son john realizes that frank's wallet has the nightingale fingerprints John instructs his father to wrap his wallet in plastic and hide it somewhere in the house where John can find it 30 years later. john identifies the nightingale using the preserved fingerprints from the wallet as jack shepard shawn doyle a former detective In the original timeline, Shepard died from a medical error the same night Frank died. But since, in the new timeline, Julia didn't leave the hospital early after learning of Frank's death, she was at the hospital and prevented the error that would have killed Shepard. While awaiting questioning, Frank activates the precinct's fire sprinkler system, escapes, and breaks into Shepard's apartment, where he finds jewelry taken from the victims. shepard catches frank in the act and pursues him ending with a fight underwater where frank appears to have killed shepard Frank fixes the radio, but while talking both he and John are attacked by the 1969 and 1999 versions of Shepard. The film concludes with a baseball game including John, Samantha (now his wife), John's young son, Frank, Julia, Satch and Gordo, who's now wealthy on account of having invested in Yahoo! on the recommendation of john\""
            ]
          },
          "execution_count": 186,
          "metadata": {},
          "output_type": "execute_result"
        }
      ],
      "source": [
        "a[7]"
      ]
    },
    {
      "cell_type": "code",
      "source": [
        "import re\n",
        "\n",
        "def remove_punctuation(text):\n",
        "  pattern = r\"[^\\w\\s,!.?]+?\"\n",
        "  return re.sub(pattern, \"\", text)\n",
        "\n",
        "# Example usage\n",
        "text = \"\"\"\n",
        "In the ancient kingdom of Mahishmati, a woman carrying a baby falls into a waterfall and breathes her last, but before dying, she holds the baby in one hand above her head. The baby is rescued by local villagers and adopted by Sanga (Rohini) and her husband. Named Shivudu, (Prabhas) he grows up to be a strong, adventurous young man who is curious about the waterfall and the land beyond. After finding a wooden mask on the ground, he is driven to find the owner of the mask and succeeds in climbing the waterfall. The mask belongs to Avanthika (Tamannaah), a rebellious warrior of a group led by Devasena's brother engaged in guerrilla warfare against Emperor Bhallaladeva (Rana Daggubati) of Mahishmati to rescue their former queen Devasena (Anushka Shetty). Avantika is given the opportunity to rescue the queen. She falls in love with Shivudu after finding out that he climbed the waterfall for her. Shivudu pledges to help her in her mission and sneaks into Mahishmati to rescue Devasena.\n",
        "Sivudu manages to flee with Devasena, but is chased down by Bhallaladeva's son, Bhadrudu (Adivi Sesh) and the slave-soldier Kattappa (Sathyaraj). After Shivudu beheads Bhadrudu, Kattappa drops his weapon, realising that Shivudu is Mahendra Baahubali, the son of late king Amarendra Baahubali. He narrates the story of Amarendra's past. Amarendra's father had died long ago, while his mother died giving birth to him. His uncle Bijjaladeva (Nassar) was deemed unfit to rule due to his crooked nature, however he believes he was denied the throne due to the fact that one of his arms is disabled. Bijjaladeva's wife Sivagami assumed control of the kingdom with Kattappa's assistance until a new king could be selected. Amarendra was brought up together with Bijjaladeva and Sivagami's son Bhallaladeva. Both young men were trained in arts, science, disguise, politics, and warfare, but they had different approaches towards kingship. While Amarendra was gracious and loved his countrymen, Bhallaladeva was violent and achieved his goals by any means possible.\n",
        "It was then discovered that Mahishmati was about to be attacked by an army of savages called Kalakeyas. Bijjaladeva proposed that the prince who killed the Kalakeya king Inkoshi would be the future king of Mahishmati to which Sivagami and the chief minister agrees. Inkoshi rejected Sivagami's offer of peace and insulted her by saying he will have children with her. An enraged Sivagami ordered that his limbs be chopped off and body fed to the vultures. While Bhallaladeva used sophiscated weapons given by Bijjaladeva, Amarendra used simple yet effective tactics. As Amarendra was about to slay the king, Bhallaladeva swung his weapon from a distance and killed him. Sivagami announced Amarendra as the new emperor despite Bhallaladeva killing the king because of the fact that he shielded and protected his own countrymen throughout the war.\n",
        "When asked about Amarendra's current whereabouts, a tearful Kattappa reveals that Amarendra is dead, and that he is the one who killed him.\n",
        "\"\"\"\n",
        "text = remove_punctuation(text)\n",
        "print(cleaned_text)  # Output: This is a sentence with some to remov"
      ],
      "metadata": {
        "colab": {
          "base_uri": "https://localhost:8080/"
        },
        "id": "R1DpkOzdACfV",
        "outputId": "edcc1a45-bc73-40b5-aa75-838527d42e7d"
      },
      "execution_count": null,
      "outputs": [
        {
          "output_type": "stream",
          "name": "stdout",
          "text": [
            "\n",
            " In the ancient kingdom of , a woman carrying a baby falls into a waterfall and breathes her last , but before dying , she holds the baby in one hand above her head . The baby is rescued by local villagers and adopted by ( ) and her husband . Named , ( Prabhas ) he grows up to be a strong , adventurous young man who is curious about the waterfall and the land beyond . After finding a wooden mask on the ground , he is driven to find the owner of the mask and succeeds in climbing the waterfall . The mask belongs to ) , a rebellious warrior of a group led by 's brother engaged in guerrilla warfare against Emperor ( Rana Daggubati ) of to rescue their former queen ( ) . Avantika is given the opportunity to rescue the queen . She falls in love with after finding out that he climbed the waterfall for her . Shivudu pledges to help her in her mission and sneaks into   to rescue . \n",
            " Sivudu manages to flee with , but is chased down by 's son , ( Adivi Sesh ) and the slave - soldier ( ) . After Shivudu beheads , drops his weapon , realising that is , the son of late king . He narrates the story of 's past . 's father had died long ago , while his mother died giving birth to him . His uncle ( ) was deemed unfit to rule due to his crooked nature , however he believes he was denied the throne due to the fact that one of his arms is disabled . 's wife assumed control of the kingdom with 's assistance until a new king could be selected . was brought up together with and 's son . Both young men were trained in arts , science , disguise , politics , and warfare , but they had different approaches towards kingship . While was gracious and loved his countrymen , was violent and achieved his goals by any means possible . \n",
            " It was then discovered that was about to be attacked by an army of savages called . proposed that the prince who killed the king would be the future king of to which and the chief minister agrees . rejected 's offer of peace and insulted her by saying he will have children with her . An enraged ordered that his limbs be chopped off and body fed to the vultures . While used sophiscated weapons given by , used simple yet effective tactics . As was about to slay the king , swung his weapon from a distance and killed him . announced as the new emperor despite killing the king because of the fact that he shielded and protected his own countrymen throughout the war . \n",
            " When asked about 's current whereabouts , a tearful reveals that is dead , and that he is the one who killed him . \n",
            "\n"
          ]
        }
      ]
    },
    {
      "cell_type": "code",
      "source": [
        "import spacy\n",
        "\n",
        "# Load the spaCy model\n",
        "nlp = spacy.load(\"en_core_web_sm\")\n",
        "\n",
        "# Define a function to remove named entities\n",
        "def remove_named_entities(text):\n",
        "  \"\"\"\n",
        "  Removes all named entities from the text.\n",
        "\n",
        "  Args:\n",
        "    text: The text to remove named entities from.\n",
        "\n",
        "  Returns:\n",
        "    The text with all named entities removed.\n",
        "  \"\"\"\n",
        "  doc = nlp(text)\n",
        "  return \" \".join([token.text for token in doc if not token.ent_type_])\n",
        "\n",
        "# Example usage\n",
        "cleaned_text = remove_named_entities(text)\n",
        "print(cleaned_text)  # Output: visited London yesterday."
      ],
      "metadata": {
        "colab": {
          "base_uri": "https://localhost:8080/"
        },
        "id": "2eVGgL4FCLDp",
        "outputId": "65e55f5e-b2e2-41db-b943-10b8587fd957"
      },
      "execution_count": null,
      "outputs": [
        {
          "output_type": "stream",
          "name": "stdout",
          "text": [
            "\n",
            " In the ancient kingdom of , a woman carrying a baby falls into a waterfall and breathes her last , but before dying , she holds the baby in one hand above her head . The baby is rescued by local villagers and adopted by and her husband . Named , he grows up to be a strong , adventurous young man who is curious about the waterfall and the land beyond . After finding a wooden mask on the ground , he is driven to find the owner of the mask and succeeds in climbing the waterfall . The mask belongs to , a rebellious warrior of a group led by brother engaged in guerrilla warfare against Emperor of to rescue their former queen . Avantika is given the opportunity to rescue the queen . She falls in love with after finding out that he climbed the waterfall for her . Shivudu pledges to help her in her mission and sneaks into   to rescue . \n",
            " Sivudu manages to flee with , but is chased down by son , and the slavesoldier . After Shivudu beheads , drops his weapon , realising that is , the son of late king . He narrates the story of past . Amarendras father had died long ago , while his mother died giving birth to him . His uncle was deemed unfit to rule due to his crooked nature , however he believes he was denied the throne due to the fact that one of his arms is disabled . Bijjaladevas wife assumed control of the kingdom with assistance until a new king could be selected . was brought up together with and son . Both young men were trained in arts , science , disguise , politics , and warfare , but they had different approaches towards kingship . While was gracious and loved his countrymen , was violent and achieved his goals by any means possible . \n",
            " It was then discovered that was about to be attacked by an army of savages called . proposed that the prince who killed the king would be the future king of to which and the chief minister agrees . rejected offer of peace and insulted her by saying he will have children with her . An enraged ordered that his limbs be chopped off and body fed to the vultures . While used sophiscated weapons given by , used simple yet effective tactics . As was about to slay the king , swung his weapon from a distance and killed him . announced as the new emperor despite killing the king because of the fact that he shielded and protected his own countrymen throughout the war . \n",
            " When asked about current whereabouts , a tearful reveals that is dead , and that he is the one who killed him . \n",
            "\n"
          ]
        }
      ]
    },
    {
      "cell_type": "code",
      "source": [
        "def remove_capital_words(text):\n",
        "  words = text.split()\n",
        "  filtered_words = [word for word in words if not word[0].isupper()]\n",
        "  return \" \".join(filtered_words)\n",
        "\n",
        "text = \"This is a Sentence with some Capital.\"\n",
        "cleaned_text = remove_capital_words(text)\n",
        "print(cleaned_text)"
      ],
      "metadata": {
        "id": "eZ6nlVD6EIEe"
      },
      "execution_count": null,
      "outputs": []
    }
  ],
  "metadata": {
    "colab": {
      "provenance": [],
      "include_colab_link": true
    },
    "kernelspec": {
      "display_name": "Python 3",
      "name": "python3"
    }
  },
  "nbformat": 4,
  "nbformat_minor": 0
}